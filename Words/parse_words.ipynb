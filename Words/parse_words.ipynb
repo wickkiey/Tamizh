{
 "cells": [
  {
   "cell_type": "code",
   "execution_count": 1,
   "metadata": {},
   "outputs": [],
   "source": [
    "import pandas as pd\n",
    "import numpy as np\n",
    "import regex"
   ]
  },
  {
   "cell_type": "code",
   "execution_count": 2,
   "metadata": {},
   "outputs": [],
   "source": [
    "data = pd.read_csv(\"../data/tawiki_data_df.csv\")"
   ]
  },
  {
   "cell_type": "code",
   "execution_count": 3,
   "metadata": {},
   "outputs": [
    {
     "data": {
      "text/html": [
       "<div>\n",
       "<style scoped>\n",
       "    .dataframe tbody tr th:only-of-type {\n",
       "        vertical-align: middle;\n",
       "    }\n",
       "\n",
       "    .dataframe tbody tr th {\n",
       "        vertical-align: top;\n",
       "    }\n",
       "\n",
       "    .dataframe thead th {\n",
       "        text-align: right;\n",
       "    }\n",
       "</style>\n",
       "<table border=\"1\" class=\"dataframe\">\n",
       "  <thead>\n",
       "    <tr style=\"text-align: right;\">\n",
       "      <th></th>\n",
       "      <th>Content</th>\n",
       "    </tr>\n",
       "  </thead>\n",
       "  <tbody>\n",
       "    <tr>\n",
       "      <th>0</th>\n",
       "      <td>. விக்கிப்பீடியா மொழிகள்</td>\n",
       "    </tr>\n",
       "    <tr>\n",
       "      <th>1</th>\n",
       "      <td>இங்கு தமிழ் விக்கிப்பீடியாவைப் பற்றிய உங்கள் ப...</td>\n",
       "    </tr>\n",
       "    <tr>\n",
       "      <th>2</th>\n",
       "      <td>விக்கிப்பீடியா அதன் வாசகர்களால் ஒருமித்து எழு...</td>\n",
       "    </tr>\n",
       "    <tr>\n",
       "      <th>3</th>\n",
       "      <td>விக்கிப்பீடியாவுக்கு கட்டுரை எழுதி மேம்படுத்தி...</td>\n",
       "    </tr>\n",
       "    <tr>\n",
       "      <th>4</th>\n",
       "      <td>.முகலாயக் கட்டிடக்கலைமுகலாய கட்டடக்கலையின் சி...</td>\n",
       "    </tr>\n",
       "  </tbody>\n",
       "</table>\n",
       "</div>"
      ],
      "text/plain": [
       "                                             Content\n",
       "0                          . விக்கிப்பீடியா மொழிகள் \n",
       "1  இங்கு தமிழ் விக்கிப்பீடியாவைப் பற்றிய உங்கள் ப...\n",
       "2   விக்கிப்பீடியா அதன் வாசகர்களால் ஒருமித்து எழு...\n",
       "3  விக்கிப்பீடியாவுக்கு கட்டுரை எழுதி மேம்படுத்தி...\n",
       "4   .முகலாயக் கட்டிடக்கலைமுகலாய கட்டடக்கலையின் சி..."
      ]
     },
     "execution_count": 3,
     "metadata": {},
     "output_type": "execute_result"
    }
   ],
   "source": [
    "data.head()"
   ]
  },
  {
   "cell_type": "code",
   "execution_count": 4,
   "metadata": {},
   "outputs": [],
   "source": [
    "# Merge all rows into one\n",
    "\n",
    "tamil_text = list(set(\" \".join(data[\"Content\"].astype(str).values).split()))"
   ]
  },
  {
   "cell_type": "code",
   "execution_count": 5,
   "metadata": {},
   "outputs": [
    {
     "data": {
      "text/plain": [
       "2051615"
      ]
     },
     "execution_count": 5,
     "metadata": {},
     "output_type": "execute_result"
    }
   ],
   "source": [
    "len(tamil_text)"
   ]
  },
  {
   "cell_type": "code",
   "execution_count": 6,
   "metadata": {},
   "outputs": [
    {
     "data": {
      "text/plain": [
       "['காவிரியாறு',\n",
       " 'உயிரினங்கள்தாம்.',\n",
       " 'கிருனாவில்',\n",
       " 'வஞ்சிஉரிச்சீர்.',\n",
       " 'ஜியார்ஜியோ',\n",
       " 'மார்கானிகாவ்',\n",
       " 'இந்துஸ்தானியிலும்',\n",
       " 'நசுக்குகிறார்கள்',\n",
       " 'இணையத்திற்கான',\n",
       " 'அழைக்கப்படுகிறது.நிலப்பகுதி']"
      ]
     },
     "execution_count": 6,
     "metadata": {},
     "output_type": "execute_result"
    }
   ],
   "source": [
    "tamil_text[:10]"
   ]
  },
  {
   "cell_type": "code",
   "execution_count": null,
   "metadata": {},
   "outputs": [],
   "source": []
  }
 ],
 "metadata": {
  "kernelspec": {
   "display_name": "mlcpu",
   "language": "python",
   "name": "python3"
  },
  "language_info": {
   "codemirror_mode": {
    "name": "ipython",
    "version": 3
   },
   "file_extension": ".py",
   "mimetype": "text/x-python",
   "name": "python",
   "nbconvert_exporter": "python",
   "pygments_lexer": "ipython3",
   "version": "3.9.13"
  },
  "orig_nbformat": 4
 },
 "nbformat": 4,
 "nbformat_minor": 2
}
