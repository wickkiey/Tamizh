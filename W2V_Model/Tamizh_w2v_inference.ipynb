{
 "cells": [
  {
   "cell_type": "code",
   "execution_count": 1,
   "metadata": {},
   "outputs": [],
   "source": [
    "from gensim.models import Word2Vec"
   ]
  },
  {
   "cell_type": "code",
   "execution_count": 2,
   "metadata": {},
   "outputs": [],
   "source": [
    "model = Word2Vec.load(\"../model/tawiki_w2v\")"
   ]
  },
  {
   "cell_type": "code",
   "execution_count": 3,
   "metadata": {},
   "outputs": [
    {
     "data": {
      "text/plain": [
       "[('வயல்கள்', 0.759262204170227),\n",
       " ('பனை', 0.7393096685409546),\n",
       " ('மரங்களும்', 0.7370815277099609),\n",
       " ('தென்னை', 0.734723687171936),\n",
       " ('மருத', 0.7170229554176331),\n",
       " ('வயலும்', 0.7027963399887085),\n",
       " ('சூழ்ந்த', 0.6919956207275391),\n",
       " ('காடும்', 0.6733906269073486),\n",
       " ('வேம்பு', 0.6708276271820068),\n",
       " ('வயல்களும்', 0.6685636639595032)]"
      ]
     },
     "execution_count": 3,
     "metadata": {},
     "output_type": "execute_result"
    }
   ],
   "source": [
    "model.wv.most_similar(\"வயல்\")"
   ]
  },
  {
   "cell_type": "code",
   "execution_count": null,
   "metadata": {},
   "outputs": [],
   "source": []
  }
 ],
 "metadata": {
  "kernelspec": {
   "display_name": "Python 3.9.13 ('mlcpu')",
   "language": "python",
   "name": "python3"
  },
  "language_info": {
   "codemirror_mode": {
    "name": "ipython",
    "version": 3
   },
   "file_extension": ".py",
   "mimetype": "text/x-python",
   "name": "python",
   "nbconvert_exporter": "python",
   "pygments_lexer": "ipython3",
   "version": "3.9.13"
  },
  "orig_nbformat": 4,
  "vscode": {
   "interpreter": {
    "hash": "c5748c1565c1706c28b404b55436b62b6077c6512afb1061aa07a949deeb1fa3"
   }
  }
 },
 "nbformat": 4,
 "nbformat_minor": 2
}
