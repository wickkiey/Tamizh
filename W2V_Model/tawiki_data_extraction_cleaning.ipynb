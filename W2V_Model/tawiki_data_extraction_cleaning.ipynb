{
 "cells": [
  {
   "cell_type": "markdown",
   "source": [
    "# Tamizh Data Cleaning"
   ],
   "metadata": {}
  },
  {
   "cell_type": "markdown",
   "source": [
    "This Code is extract useful information form Tamizh data-set from (Wikimedia). \r\n",
    "\r\n",
    "Informations Planned to extract:\r\n",
    "  \r\n",
    "  1. Nouns\r\n",
    "  2. multiple word - similar meaning\r\n",
    "  3. Categories\r\n",
    "  \r\n",
    "  \r\n",
    " Data leaning part\r\n",
    "  1. Extract only tamil sentence"
   ],
   "metadata": {
    "colab_type": "text",
    "id": "hMKbV87O3Cdv"
   }
  },
  {
   "cell_type": "markdown",
   "source": [
    "Import relevant libraries"
   ],
   "metadata": {
    "colab_type": "text",
    "id": "YvWZOhqm3ewk"
   }
  },
  {
   "cell_type": "code",
   "execution_count": 1,
   "source": [
    "import pandas as pd\r\n",
    "import re\r\n",
    "import regex"
   ],
   "outputs": [],
   "metadata": {
    "colab": {},
    "colab_type": "code",
    "id": "oqpE3PZ73B0r"
   }
  },
  {
   "cell_type": "markdown",
   "source": [
    "Load the data"
   ],
   "metadata": {
    "colab_type": "text",
    "id": "jKBzewgv4Koy"
   }
  },
  {
   "cell_type": "code",
   "execution_count": 3,
   "source": [
    "data = pd.read_csv(\"../data/tawiki_pages_articles.csv\")"
   ],
   "outputs": [],
   "metadata": {
    "colab": {},
    "colab_type": "code",
    "id": "nSQ3fPyX3x-5"
   }
  },
  {
   "cell_type": "markdown",
   "source": [
    "Define variable to save all the extracted information\r\n",
    "\r\n",
    "1. Wikipedia article clean texts\r\n",
    "2. Nouns (here nouns are considered as value bounded in box)\r\n",
    "3. Curl Values\r\n",
    "4. Heading values for articles\r\n",
    "5. Tamil - English combined\r\n",
    "6. Categories"
   ],
   "metadata": {
    "colab_type": "text",
    "id": "mtP3WfH14-2x"
   }
  },
  {
   "cell_type": "code",
   "execution_count": 4,
   "source": [
    "#This will be considered as global variables #hope we have enought RAM for this slliness\r\n",
    "\r\n",
    "boxed_values = []\r\n",
    "curlBoxed_values = []\r\n",
    "heading_values = []\r\n",
    "boxed_and_curls = []\r\n",
    "categories = []"
   ],
   "outputs": [],
   "metadata": {
    "colab": {},
    "colab_type": "code",
    "id": "LhTRTw7i4Ma9"
   }
  },
  {
   "cell_type": "markdown",
   "source": [
    "Define regular expressoin syntax\n",
    "\n",
    "And extract information functions\n",
    "\n"
   ],
   "metadata": {
    "colab_type": "text",
    "id": "3It3F8T96BPD"
   }
  },
  {
   "cell_type": "code",
   "execution_count": 5,
   "source": [
    "re_boxed_values = \"\\[[^\\]^\\[]*\\]\"\r\n",
    "re_curlBoxed_values = \"\\{[^\\{]*\\}\"\r\n",
    "re_heading_values = \"\\=\\=([^\\=]*)\\=\\=\"\r\n",
    "re_boxed_and_curls = \"\\[[^\\]^\\[]*\\]\\] \\([^\\(^\\)]*\\)\"\r\n",
    "re_categories = \"\\[\\[பகுப்பு:([^\\]]*)\\]\"\r\n",
    "\r\n",
    "def parse_data(text,title):\r\n",
    "  boxed_values.append({'title':title,'box':list(set(re.findall(re_boxed_values,text,re.M)))})\r\n",
    "  curlBoxed_values.append({'title':title,'curl':list(set(re.findall(re_curlBoxed_values,text,re.M)))})\r\n",
    "  heading_values.append({'title':title,'heading':list(set(re.findall(re_heading_values,text,re.M)))})\r\n",
    "  boxed_and_curls.append({'title':title,'boxcurl':list(set(re.findall(re_boxed_and_curls,text,re.M)))})\r\n",
    "  categories.append({'title':title,'categories':list(set(re.findall(re_categories,text,re.M)))})"
   ],
   "outputs": [],
   "metadata": {
    "colab": {},
    "colab_type": "code",
    "id": "yCSBgdjW6LCd"
   }
  },
  {
   "cell_type": "markdown",
   "source": [
    "Cleaning is required with multiple string needs to be eliminated with regex\n",
    "\n",
    "Here I used \"regex\" function to extract tamil chars from the string (Note : not re)"
   ],
   "metadata": {
    "colab_type": "text",
    "id": "48Z0680C7h5s"
   }
  },
  {
   "cell_type": "code",
   "execution_count": 6,
   "source": [
    "#set of regex rules to extract patterns\r\n",
    "\r\n",
    "re_braces = \"\\([^\\)]*\\)\"\r\n",
    "re_curl_braces =\"\\{\\{[^\\}\\{]*\\}\\}\"\r\n",
    "re_single_curl = \"\\{[^\\}\\{]*\\}\"\r\n",
    "# re_curl_braces =\"\\{[^\\}]*\\}\"\r\n",
    "# re_double_curl_braces = \"\\{[^\\{]*\\{[^\\}]*\\}\\}[^\\}]*\\}\\}\"\r\n",
    "re_category = \"\\[\\[பகுப்பு:[^\\]]*\\]\"\r\n",
    "re_header = \"(\\=\\=[^\\=]*\\=\\=)\"\r\n",
    "re_img = \"\\[\\[படிமம்:.*\\]\\]\"\r\n",
    "re_ref1 = \"<ref.*?/>\"\r\n",
    "re_ref2 = \"<ref.*?</ref>\"\r\n",
    "\r\n",
    "def clean_data(text):\r\n",
    "  text = re.sub(re_braces,\"\",text)\r\n",
    "  text = re.sub(re_ref2,\"\",text)\r\n",
    "  text = re.sub(re_ref1,\"\",text)\r\n",
    "  text = re.sub(re_curl_braces,\"\",text)\r\n",
    "  text = re.sub(re_curl_braces,\"\",text)\r\n",
    "  text = re.sub(re_curl_braces,\"\",text)\r\n",
    "  text = re.sub(re_single_curl,\"\",text)\r\n",
    "  text = re.sub(re_category,\"\",text)\r\n",
    "  text = re.sub(re_header,\"\",text)\r\n",
    "  text =\"\".join(regex.findall(\"[\\p{Tamil} ]\",text))\r\n",
    "  text = re.sub(\"\\s\\s+\" , \" \", text)\r\n",
    "  return text"
   ],
   "outputs": [],
   "metadata": {
    "colab": {},
    "colab_type": "code",
    "id": "p8TEQo4o5-5e"
   }
  },
  {
   "cell_type": "markdown",
   "source": [
    "Even some entire sections in the article is not needed for the language modelling purpose. \n",
    "\n",
    "We can eliminate those from the existance :-p "
   ],
   "metadata": {
    "colab_type": "text",
    "id": "fQxZq_Hi8NC5"
   }
  },
  {
   "cell_type": "code",
   "execution_count": 7,
   "source": [
    "section_rm= ['மேற்கோள்கள்','இவற்றையும் பார்க்கவும்','வெளி இணைப்புகள்','நூற்பட்டியல்','துணை நூல்கள்']\r\n",
    "\r\n",
    "def remove_sections(text):\r\n",
    "  text = re.sub(re_img,\"\",text)\r\n",
    "  article = \"\"\r\n",
    "  for para in text.split(\"\\n\\n\"):\r\n",
    "    if not any([section in para for section in section_rm]):\r\n",
    "      article += para \r\n",
    "      \r\n",
    "  return article"
   ],
   "outputs": [],
   "metadata": {
    "colab": {},
    "colab_type": "code",
    "id": "LEbjoNuu8E-5"
   }
  },
  {
   "cell_type": "code",
   "execution_count": 8,
   "source": [
    "#remove_sections(data.text[8])"
   ],
   "outputs": [],
   "metadata": {
    "colab": {},
    "colab_type": "code",
    "id": "HGy8DgkZ8niO"
   }
  },
  {
   "cell_type": "markdown",
   "source": [
    "So Here we go !!!!!!!!!!!!\n",
    "\n",
    "We have all the funtions for \n",
    "\n",
    "1. Extract the relevant information from the article\n",
    "2. Clean the data\n",
    "3. Extracting the pure -(information) from the article \n"
   ],
   "metadata": {
    "colab_type": "text",
    "id": "r3ZrfoqU8rW8"
   }
  },
  {
   "cell_type": "code",
   "execution_count": 9,
   "source": [
    "#combine all these into a single funciton\r\n",
    "\r\n",
    "def extract_tawiki(text,title):\r\n",
    "  if type(text)==str:\r\n",
    "    text = remove_sections(text)\r\n",
    "    parse_data(text,title)\r\n",
    "    clean_text = clean_data(text)\r\n",
    "    return clean_text\r\n",
    "  else:\r\n",
    "    return \"\"\r\n",
    "  "
   ],
   "outputs": [],
   "metadata": {
    "colab": {},
    "colab_type": "code",
    "id": "p6ibuBPS7Qn5"
   }
  },
  {
   "cell_type": "markdown",
   "source": [
    "Apply the same logic to all data in the dataframe \n",
    "\n"
   ],
   "metadata": {
    "colab_type": "text",
    "id": "CM5S1nJmE5pM"
   }
  },
  {
   "cell_type": "code",
   "execution_count": 10,
   "source": [
    "#text data\r\n",
    "tawiki_data= []\r\n",
    "\r\n",
    "\r\n",
    "#Other useful information\r\n",
    "boxed_values = []\r\n",
    "curlBoxed_values = []\r\n",
    "heading_values = []\r\n",
    "boxed_and_curls = []\r\n",
    "categories = []\r\n",
    "\r\n",
    "\r\n",
    "for i in range(data.shape[0]):\r\n",
    "  tawiki_data.append(extract_tawiki(data.text.iloc[i],data.title.iloc[i]))"
   ],
   "outputs": [],
   "metadata": {
    "colab": {},
    "colab_type": "code",
    "id": "PmnbLs8t_qk9"
   }
  },
  {
   "cell_type": "code",
   "execution_count": 11,
   "source": [
    "#data to be saved\r\n",
    "tawiki_data_df = pd.DataFrame(tawiki_data,columns=['Content'])\r\n",
    "boxed_values_df = pd.DataFrame(boxed_values)\r\n",
    "#curl_boxed_values = pd.DataFrame(curlBoxed_values)\r\n",
    "boxed_and_curls_df = pd.DataFrame(boxed_and_curls)\r\n",
    "categories_df = pd.DataFrame(categories)"
   ],
   "outputs": [],
   "metadata": {
    "colab": {},
    "colab_type": "code",
    "id": "gOKV1DePFZUZ"
   }
  },
  {
   "cell_type": "code",
   "execution_count": 12,
   "source": [
    "categories_df.head()"
   ],
   "outputs": [
    {
     "output_type": "execute_result",
     "data": {
      "text/plain": [
       "                                title                  categories\n",
       "0                        முதற் பக்கம்                          []\n",
       "1        விக்கிப்பீடியா:கலந்துரையாடல்  [விக்கிப்பீடியா ஆலமரத்தடி]\n",
       "2  விக்கிப்பீடியா:புதுப் பயனர் பக்கம்       [விக்கிப்பீடியா உதவி]\n",
       "3   விக்கிப்பீடியா:விக்கிப்பீடியர்கள்        [விக்கிப்பீடியர்கள்]\n",
       "4                         கட்டிடக்கலை             [கட்டிடக்கலை| ]"
      ],
      "text/html": [
       "<div>\n",
       "<style scoped>\n",
       "    .dataframe tbody tr th:only-of-type {\n",
       "        vertical-align: middle;\n",
       "    }\n",
       "\n",
       "    .dataframe tbody tr th {\n",
       "        vertical-align: top;\n",
       "    }\n",
       "\n",
       "    .dataframe thead th {\n",
       "        text-align: right;\n",
       "    }\n",
       "</style>\n",
       "<table border=\"1\" class=\"dataframe\">\n",
       "  <thead>\n",
       "    <tr style=\"text-align: right;\">\n",
       "      <th></th>\n",
       "      <th>title</th>\n",
       "      <th>categories</th>\n",
       "    </tr>\n",
       "  </thead>\n",
       "  <tbody>\n",
       "    <tr>\n",
       "      <th>0</th>\n",
       "      <td>முதற் பக்கம்</td>\n",
       "      <td>[]</td>\n",
       "    </tr>\n",
       "    <tr>\n",
       "      <th>1</th>\n",
       "      <td>விக்கிப்பீடியா:கலந்துரையாடல்</td>\n",
       "      <td>[விக்கிப்பீடியா ஆலமரத்தடி]</td>\n",
       "    </tr>\n",
       "    <tr>\n",
       "      <th>2</th>\n",
       "      <td>விக்கிப்பீடியா:புதுப் பயனர் பக்கம்</td>\n",
       "      <td>[விக்கிப்பீடியா உதவி]</td>\n",
       "    </tr>\n",
       "    <tr>\n",
       "      <th>3</th>\n",
       "      <td>விக்கிப்பீடியா:விக்கிப்பீடியர்கள்</td>\n",
       "      <td>[விக்கிப்பீடியர்கள்]</td>\n",
       "    </tr>\n",
       "    <tr>\n",
       "      <th>4</th>\n",
       "      <td>கட்டிடக்கலை</td>\n",
       "      <td>[கட்டிடக்கலை| ]</td>\n",
       "    </tr>\n",
       "  </tbody>\n",
       "</table>\n",
       "</div>"
      ]
     },
     "metadata": {},
     "execution_count": 12
    }
   ],
   "metadata": {
    "colab": {
     "base_uri": "https://localhost:8080/",
     "height": 204
    },
    "colab_type": "code",
    "id": "NGwZ8ZCqEPf_",
    "outputId": "535ecf4b-6c7c-46b4-dc0d-2715c8c16c4b"
   }
  },
  {
   "cell_type": "markdown",
   "source": [
    "Save all the results to disk.\n",
    "\n"
   ],
   "metadata": {
    "colab_type": "text",
    "id": "JxyYw-tBLK1_"
   }
  },
  {
   "cell_type": "code",
   "execution_count": 13,
   "source": [
    "tawiki_data_df.to_csv(\"../data/tawiki_data_df.csv\",index=False)\r\n",
    "boxed_values_df.to_csv(\"../data/boxed_value_df.csv\",index =False)\r\n",
    "boxed_and_curls_df.to_csv(\"../data/boxednCurls_df.csv\",index=False)\r\n",
    "categories_df.to_csv(\"../data/categories_df.csv\",index=False)"
   ],
   "outputs": [],
   "metadata": {
    "colab": {},
    "colab_type": "code",
    "id": "gwVeJRHH2Jjz"
   }
  },
  {
   "cell_type": "code",
   "execution_count": null,
   "source": [],
   "outputs": [],
   "metadata": {
    "colab": {},
    "colab_type": "code",
    "id": "dVMRGI0OJJqb"
   }
  }
 ],
 "metadata": {
  "colab": {
   "collapsed_sections": [],
   "name": "Tamizh-Wikidump-Extraction.ipynb",
   "provenance": [],
   "version": "0.3.2"
  },
  "kernelspec": {
   "name": "python3",
   "display_name": "Python 3.8.10 64-bit ('deepcpu': conda)"
  },
  "language_info": {
   "codemirror_mode": {
    "name": "ipython",
    "version": 3
   },
   "file_extension": ".py",
   "mimetype": "text/x-python",
   "name": "python",
   "nbconvert_exporter": "python",
   "pygments_lexer": "ipython3",
   "version": "3.8.10"
  },
  "interpreter": {
   "hash": "225e9c3dad8bdaa08775d424574c5a097d8974f53246e85eec604db0c0bf068c"
  }
 },
 "nbformat": 4,
 "nbformat_minor": 1
}