{
  "nbformat": 4,
  "nbformat_minor": 2,
  "metadata": {
    "colab": {
      "name": "Tamizh-Word2Vec.ipynb",
      "version": "0.3.2",
      "provenance": [],
      "collapsed_sections": []
    },
    "kernelspec": {
      "name": "python3",
      "display_name": "Python 3.8.8 64-bit ('deepcpu': conda)"
    },
    "language_info": {
      "name": "python",
      "version": "3.8.8",
      "mimetype": "text/x-python",
      "codemirror_mode": {
        "name": "ipython",
        "version": 3
      },
      "pygments_lexer": "ipython3",
      "nbconvert_exporter": "python",
      "file_extension": ".py"
    },
    "interpreter": {
      "hash": "e9b5491aa479ad6e49d72c1593d34a45ae2a9208799debcc869cd3053129dce6"
    }
  },
  "cells": [
    {
      "cell_type": "markdown",
      "source": [
        "# Word2Vec for Tamil words. \r\n",
        "\r\n",
        "Converting words to vector representation and similarity map generation\r\n",
        "\r\n",
        "Fine plural form of words\r\n"
      ],
      "metadata": {
        "id": "DzMcaeiQMQ_x",
        "colab_type": "text"
      }
    },
    {
      "cell_type": "code",
      "execution_count": 1,
      "source": [
        "import pandas as pd\r\n",
        "import numpy as np \r\n",
        "import re\r\n",
        "from matplotlib import pyplot as plt\r\n",
        "import regex\r\n",
        "from tqdm import tqdm"
      ],
      "outputs": [],
      "metadata": {
        "id": "_qTCGyV1IVUC",
        "colab_type": "code",
        "colab": {}
      }
    },
    {
      "cell_type": "code",
      "execution_count": 2,
      "source": [
        "import sys"
      ],
      "outputs": [],
      "metadata": {
        "id": "7-B7uFwG9Asv",
        "colab_type": "code",
        "colab": {}
      }
    },
    {
      "cell_type": "code",
      "execution_count": 3,
      "source": [
        "sys.setrecursionlimit(2500)"
      ],
      "outputs": [],
      "metadata": {
        "id": "SucrOP8t9H1_",
        "colab_type": "code",
        "colab": {}
      }
    },
    {
      "cell_type": "code",
      "execution_count": 4,
      "source": [
        "In_Colab = False\r\n",
        "if 'google.colab' in str(get_ipython()):\r\n",
        "    print('Running on CoLab')\r\n",
        "    In_Colab = True"
      ],
      "outputs": [],
      "metadata": {}
    },
    {
      "cell_type": "code",
      "execution_count": 5,
      "source": [
        "if In_Colab:\r\n",
        "    from google.colab import drive\r\n",
        "    drive.mount('/gdrive')\r\n",
        "\r\n",
        "    %cd /gdrive/My\\ Drive/Tamizh/data/wiki_data"
      ],
      "outputs": [],
      "metadata": {
        "id": "HEcmCSwkIlNm",
        "colab_type": "code",
        "outputId": "6e6a3256-25ac-4c87-ac28-336f25143c88",
        "colab": {
          "base_uri": "https://localhost:8080/",
          "height": 51
        }
      }
    },
    {
      "cell_type": "code",
      "execution_count": null,
      "source": [],
      "outputs": [],
      "metadata": {}
    },
    {
      "cell_type": "code",
      "execution_count": 6,
      "source": [
        "from constants import *"
      ],
      "outputs": [],
      "metadata": {}
    },
    {
      "cell_type": "code",
      "execution_count": 7,
      "source": [
        "data = pd.read_csv(\"../data/tawiki_data_df.csv\")"
      ],
      "outputs": [],
      "metadata": {
        "id": "FN5AK2OZIyAt",
        "colab_type": "code",
        "colab": {}
      }
    },
    {
      "cell_type": "code",
      "execution_count": 8,
      "source": [
        "# Shape of the data\r\n",
        "data.shape"
      ],
      "outputs": [
        {
          "output_type": "execute_result",
          "data": {
            "text/plain": [
              "(235997, 1)"
            ]
          },
          "metadata": {},
          "execution_count": 8
        }
      ],
      "metadata": {
        "id": "26NC0DcWJQtO",
        "colab_type": "code",
        "outputId": "130ef622-d6ac-4a87-ef08-f2e1a928d413",
        "colab": {
          "base_uri": "https://localhost:8080/",
          "height": 34
        }
      }
    },
    {
      "cell_type": "code",
      "execution_count": 9,
      "source": [
        "data = data.dropna()"
      ],
      "outputs": [],
      "metadata": {}
    },
    {
      "cell_type": "code",
      "execution_count": 10,
      "source": [
        "data.shape"
      ],
      "outputs": [
        {
          "output_type": "execute_result",
          "data": {
            "text/plain": [
              "(201665, 1)"
            ]
          },
          "metadata": {},
          "execution_count": 10
        }
      ],
      "metadata": {}
    },
    {
      "cell_type": "markdown",
      "source": [
        "#### Convert each sentence to list of tokens. \r\n",
        "\r\n",
        "*observation : this have more then 2 crore vocabulary \r\n",
        "* Need to find the root words  - "
      ],
      "metadata": {
        "id": "V2KmPzS8M7lJ",
        "colab_type": "text"
      }
    },
    {
      "cell_type": "code",
      "execution_count": 11,
      "source": [
        "data.head()"
      ],
      "outputs": [
        {
          "output_type": "execute_result",
          "data": {
            "text/plain": [
              "                                             Content\n",
              "0                             விக்கிப்பீடியா மொழிகள்\n",
              "1  இங்கு தமிழ் விக்கிப்பீடியாவைப் பற்றிய உங்கள் ப...\n",
              "2  விக்கிப்பீடியா அதன் வாசகர்களால் ஒருமித்து எழுத...\n",
              "3  விக்கிப்பீடியாவுக்கு கட்டுரை எழுதி மேம்படுத்தி...\n",
              "4   முகலாயக் கட்டிடக்கலைமுகலாய கட்டடக்கலையின் சிற..."
            ],
            "text/html": [
              "<div>\n",
              "<style scoped>\n",
              "    .dataframe tbody tr th:only-of-type {\n",
              "        vertical-align: middle;\n",
              "    }\n",
              "\n",
              "    .dataframe tbody tr th {\n",
              "        vertical-align: top;\n",
              "    }\n",
              "\n",
              "    .dataframe thead th {\n",
              "        text-align: right;\n",
              "    }\n",
              "</style>\n",
              "<table border=\"1\" class=\"dataframe\">\n",
              "  <thead>\n",
              "    <tr style=\"text-align: right;\">\n",
              "      <th></th>\n",
              "      <th>Content</th>\n",
              "    </tr>\n",
              "  </thead>\n",
              "  <tbody>\n",
              "    <tr>\n",
              "      <th>0</th>\n",
              "      <td>விக்கிப்பீடியா மொழிகள்</td>\n",
              "    </tr>\n",
              "    <tr>\n",
              "      <th>1</th>\n",
              "      <td>இங்கு தமிழ் விக்கிப்பீடியாவைப் பற்றிய உங்கள் ப...</td>\n",
              "    </tr>\n",
              "    <tr>\n",
              "      <th>2</th>\n",
              "      <td>விக்கிப்பீடியா அதன் வாசகர்களால் ஒருமித்து எழுத...</td>\n",
              "    </tr>\n",
              "    <tr>\n",
              "      <th>3</th>\n",
              "      <td>விக்கிப்பீடியாவுக்கு கட்டுரை எழுதி மேம்படுத்தி...</td>\n",
              "    </tr>\n",
              "    <tr>\n",
              "      <th>4</th>\n",
              "      <td>முகலாயக் கட்டிடக்கலைமுகலாய கட்டடக்கலையின் சிற...</td>\n",
              "    </tr>\n",
              "  </tbody>\n",
              "</table>\n",
              "</div>"
            ]
          },
          "metadata": {},
          "execution_count": 11
        }
      ],
      "metadata": {}
    },
    {
      "cell_type": "markdown",
      "source": [
        "### Drop NA values"
      ],
      "metadata": {}
    },
    {
      "cell_type": "markdown",
      "source": [
        "### Convert as one long sentence. This will be useful for cleaning vallina migu sorrkal."
      ],
      "metadata": {}
    },
    {
      "cell_type": "code",
      "execution_count": null,
      "source": [],
      "outputs": [],
      "metadata": {}
    },
    {
      "cell_type": "markdown",
      "source": [
        "## Data Cleaning "
      ],
      "metadata": {}
    },
    {
      "cell_type": "code",
      "execution_count": 12,
      "source": [
        "def split_text(text):\r\n",
        "    return regex.findall(r'\\X', text, regex.U)\r\n",
        "\r\n",
        "def conv_base(text):\r\n",
        "    return [split_map.get(k) for k in split_text(text)]\r\n",
        "\r\n",
        "def _lastmap(text):\r\n",
        "    if len(text[-1])>1:\r\n",
        "        return text[-1][-1]\r\n",
        "    return text[-1][0]\r\n",
        "\r\n",
        "def _firstmap(text):\r\n",
        "    return text[0][0]\r\n",
        "\r\n",
        "def is_vallmigu_pair(text1,text2):\r\n",
        "    try:\r\n",
        "        text1 = conv_base(text1)\r\n",
        "        text2 = conv_base(text2)\r\n",
        "        if (_lastmap(text1) in vall_migu) and (_firstmap(text2) in vall_migu):\r\n",
        "            return True\r\n",
        "        else:\r\n",
        "            return False\r\n",
        "    except:\r\n",
        "        return False"
      ],
      "outputs": [],
      "metadata": {}
    },
    {
      "cell_type": "code",
      "execution_count": 18,
      "source": [
        "def clean_split(text):\r\n",
        "    text = re.sub(\"\\s+\",\" \",text.strip())\r\n",
        "    return text.split(' ')"
      ],
      "outputs": [],
      "metadata": {}
    },
    {
      "cell_type": "code",
      "execution_count": 19,
      "source": [
        "data['processed'] = data.Content.apply(clean_split)\r\n"
      ],
      "outputs": [],
      "metadata": {}
    },
    {
      "cell_type": "code",
      "execution_count": 20,
      "source": [
        "data.head()"
      ],
      "outputs": [
        {
          "output_type": "execute_result",
          "data": {
            "text/plain": [
              "                                             Content  \\\n",
              "0                             விக்கிப்பீடியா மொழிகள்   \n",
              "1  இங்கு தமிழ் விக்கிப்பீடியாவைப் பற்றிய உங்கள் ப...   \n",
              "2  விக்கிப்பீடியா அதன் வாசகர்களால் ஒருமித்து எழுத...   \n",
              "3  விக்கிப்பீடியாவுக்கு கட்டுரை எழுதி மேம்படுத்தி...   \n",
              "4   முகலாயக் கட்டிடக்கலைமுகலாய கட்டடக்கலையின் சிற...   \n",
              "\n",
              "                                           processed  \n",
              "0                          [விக்கிப்பீடியா, மொழிகள்]  \n",
              "1  [இங்கு, தமிழ், விக்கிப்பீடியாவைப், பற்றிய, உங்...  \n",
              "2  [விக்கிப்பீடியா, அதன், வாசகர்களால், ஒருமித்து,...  \n",
              "3  [விக்கிப்பீடியாவுக்கு, கட்டுரை, எழுதி, மேம்படு...  \n",
              "4  [முகலாயக், கட்டிடக்கலைமுகலாய, கட்டடக்கலையின், ...  "
            ],
            "text/html": [
              "<div>\n",
              "<style scoped>\n",
              "    .dataframe tbody tr th:only-of-type {\n",
              "        vertical-align: middle;\n",
              "    }\n",
              "\n",
              "    .dataframe tbody tr th {\n",
              "        vertical-align: top;\n",
              "    }\n",
              "\n",
              "    .dataframe thead th {\n",
              "        text-align: right;\n",
              "    }\n",
              "</style>\n",
              "<table border=\"1\" class=\"dataframe\">\n",
              "  <thead>\n",
              "    <tr style=\"text-align: right;\">\n",
              "      <th></th>\n",
              "      <th>Content</th>\n",
              "      <th>processed</th>\n",
              "    </tr>\n",
              "  </thead>\n",
              "  <tbody>\n",
              "    <tr>\n",
              "      <th>0</th>\n",
              "      <td>விக்கிப்பீடியா மொழிகள்</td>\n",
              "      <td>[விக்கிப்பீடியா, மொழிகள்]</td>\n",
              "    </tr>\n",
              "    <tr>\n",
              "      <th>1</th>\n",
              "      <td>இங்கு தமிழ் விக்கிப்பீடியாவைப் பற்றிய உங்கள் ப...</td>\n",
              "      <td>[இங்கு, தமிழ், விக்கிப்பீடியாவைப், பற்றிய, உங்...</td>\n",
              "    </tr>\n",
              "    <tr>\n",
              "      <th>2</th>\n",
              "      <td>விக்கிப்பீடியா அதன் வாசகர்களால் ஒருமித்து எழுத...</td>\n",
              "      <td>[விக்கிப்பீடியா, அதன், வாசகர்களால், ஒருமித்து,...</td>\n",
              "    </tr>\n",
              "    <tr>\n",
              "      <th>3</th>\n",
              "      <td>விக்கிப்பீடியாவுக்கு கட்டுரை எழுதி மேம்படுத்தி...</td>\n",
              "      <td>[விக்கிப்பீடியாவுக்கு, கட்டுரை, எழுதி, மேம்படு...</td>\n",
              "    </tr>\n",
              "    <tr>\n",
              "      <th>4</th>\n",
              "      <td>முகலாயக் கட்டிடக்கலைமுகலாய கட்டடக்கலையின் சிற...</td>\n",
              "      <td>[முகலாயக், கட்டிடக்கலைமுகலாய, கட்டடக்கலையின், ...</td>\n",
              "    </tr>\n",
              "  </tbody>\n",
              "</table>\n",
              "</div>"
            ]
          },
          "metadata": {},
          "execution_count": 20
        }
      ],
      "metadata": {}
    },
    {
      "cell_type": "code",
      "execution_count": 21,
      "source": [
        "vallmigu_pair_set = set()"
      ],
      "outputs": [],
      "metadata": {}
    },
    {
      "cell_type": "code",
      "execution_count": 24,
      "source": [
        "\r\n",
        "for row in tqdm(range(data.shape[0])):\r\n",
        "    text = data.processed.iloc[row]\r\n",
        "    for i in range(len(text)-2):\r\n",
        "        if is_vallmigu_pair(text[i],text[i+1]):\r\n",
        "            vallmigu_pair_set.add((text[i],text[i+1]))\r\n",
        "            text[i] = ''.join(split_text(text[i])[:-1])\r\n",
        "    data.processed.iloc[row]= text\r\n",
        "\r\n"
      ],
      "outputs": [
        {
          "output_type": "stream",
          "name": "stderr",
          "text": [
            "100%|██████████| 201665/201665 [29:30<00:00, 113.88it/s]\n"
          ]
        }
      ],
      "metadata": {}
    },
    {
      "cell_type": "code",
      "execution_count": 25,
      "source": [
        "data.head()"
      ],
      "outputs": [
        {
          "output_type": "execute_result",
          "data": {
            "text/plain": [
              "                                             Content  \\\n",
              "0                             விக்கிப்பீடியா மொழிகள்   \n",
              "1  இங்கு தமிழ் விக்கிப்பீடியாவைப் பற்றிய உங்கள் ப...   \n",
              "2  விக்கிப்பீடியா அதன் வாசகர்களால் ஒருமித்து எழுத...   \n",
              "3  விக்கிப்பீடியாவுக்கு கட்டுரை எழுதி மேம்படுத்தி...   \n",
              "4   முகலாயக் கட்டிடக்கலைமுகலாய கட்டடக்கலையின் சிற...   \n",
              "\n",
              "                                           processed  \n",
              "0                          [விக்கிப்பீடியா, மொழிகள்]  \n",
              "1  [இங்கு, தமிழ், விக்கிப்பீடியாவை, பற்றிய, உங்கள...  \n",
              "2  [விக்கிப்பீடியா, அதன், வாசகர்களால், ஒருமித்து,...  \n",
              "3  [விக்கிப்பீடியாவுக்கு, கட்டுரை, எழுதி, மேம்படு...  \n",
              "4  [முகலாய, கட்டிடக்கலைமுகலாய, கட்டடக்கலையின், சி...  "
            ],
            "text/html": [
              "<div>\n",
              "<style scoped>\n",
              "    .dataframe tbody tr th:only-of-type {\n",
              "        vertical-align: middle;\n",
              "    }\n",
              "\n",
              "    .dataframe tbody tr th {\n",
              "        vertical-align: top;\n",
              "    }\n",
              "\n",
              "    .dataframe thead th {\n",
              "        text-align: right;\n",
              "    }\n",
              "</style>\n",
              "<table border=\"1\" class=\"dataframe\">\n",
              "  <thead>\n",
              "    <tr style=\"text-align: right;\">\n",
              "      <th></th>\n",
              "      <th>Content</th>\n",
              "      <th>processed</th>\n",
              "    </tr>\n",
              "  </thead>\n",
              "  <tbody>\n",
              "    <tr>\n",
              "      <th>0</th>\n",
              "      <td>விக்கிப்பீடியா மொழிகள்</td>\n",
              "      <td>[விக்கிப்பீடியா, மொழிகள்]</td>\n",
              "    </tr>\n",
              "    <tr>\n",
              "      <th>1</th>\n",
              "      <td>இங்கு தமிழ் விக்கிப்பீடியாவைப் பற்றிய உங்கள் ப...</td>\n",
              "      <td>[இங்கு, தமிழ், விக்கிப்பீடியாவை, பற்றிய, உங்கள...</td>\n",
              "    </tr>\n",
              "    <tr>\n",
              "      <th>2</th>\n",
              "      <td>விக்கிப்பீடியா அதன் வாசகர்களால் ஒருமித்து எழுத...</td>\n",
              "      <td>[விக்கிப்பீடியா, அதன், வாசகர்களால், ஒருமித்து,...</td>\n",
              "    </tr>\n",
              "    <tr>\n",
              "      <th>3</th>\n",
              "      <td>விக்கிப்பீடியாவுக்கு கட்டுரை எழுதி மேம்படுத்தி...</td>\n",
              "      <td>[விக்கிப்பீடியாவுக்கு, கட்டுரை, எழுதி, மேம்படு...</td>\n",
              "    </tr>\n",
              "    <tr>\n",
              "      <th>4</th>\n",
              "      <td>முகலாயக் கட்டிடக்கலைமுகலாய கட்டடக்கலையின் சிற...</td>\n",
              "      <td>[முகலாய, கட்டிடக்கலைமுகலாய, கட்டடக்கலையின், சி...</td>\n",
              "    </tr>\n",
              "  </tbody>\n",
              "</table>\n",
              "</div>"
            ]
          },
          "metadata": {},
          "execution_count": 25
        }
      ],
      "metadata": {}
    },
    {
      "cell_type": "code",
      "execution_count": 26,
      "source": [
        "len(vallmigu_pair_set)"
      ],
      "outputs": [
        {
          "output_type": "execute_result",
          "data": {
            "text/plain": [
              "743967"
            ]
          },
          "metadata": {},
          "execution_count": 26
        }
      ],
      "metadata": {}
    },
    {
      "cell_type": "markdown",
      "source": [
        "#Word2Vec\n",
        "\n",
        "Generate word2vec representation for tokens in tamil. \n",
        "\n"
      ],
      "metadata": {
        "id": "bhNP6iD4NdoA",
        "colab_type": "text"
      }
    },
    {
      "cell_type": "code",
      "execution_count": 27,
      "source": [
        "import pickle\r\n",
        "\r\n",
        "with open('../data/vallmigu_pair.pkl','wb') as f:\r\n",
        "    pickle.dump(vallmigu_pair_set,f)"
      ],
      "outputs": [],
      "metadata": {}
    },
    {
      "cell_type": "code",
      "execution_count": 28,
      "source": [
        "#Generate word 2 vec\r\n",
        "\r\n",
        "from gensim.models import Word2Vec"
      ],
      "outputs": [],
      "metadata": {
        "id": "6_AiFZxNk1CP",
        "colab_type": "code",
        "colab": {}
      }
    },
    {
      "cell_type": "code",
      "execution_count": 31,
      "source": [
        "texts = data.processed.values"
      ],
      "outputs": [],
      "metadata": {}
    },
    {
      "cell_type": "code",
      "execution_count": 32,
      "source": [
        " \r\n",
        "model = Word2Vec(texts, size=100, window=50, min_count=10, workers=6)"
      ],
      "outputs": [],
      "metadata": {
        "id": "wwFDd7OHk7x0",
        "colab_type": "code",
        "colab": {}
      }
    },
    {
      "cell_type": "code",
      "execution_count": 33,
      "source": [
        "len(model.wv.vocab)"
      ],
      "outputs": [
        {
          "output_type": "execute_result",
          "data": {
            "text/plain": [
              "142721"
            ]
          },
          "metadata": {},
          "execution_count": 33
        }
      ],
      "metadata": {
        "id": "U4WeU6I4lVpk",
        "colab_type": "code",
        "outputId": "8191590e-f0f0-49bd-c420-4830c4e5bfdd",
        "colab": {
          "base_uri": "https://localhost:8080/",
          "height": 34
        }
      }
    },
    {
      "cell_type": "code",
      "execution_count": 40,
      "source": [
        "model.wv.most_similar(\"பிழைகள்\")"
      ],
      "outputs": [
        {
          "output_type": "execute_result",
          "data": {
            "text/plain": [
              "[('பிழைகளை', 0.8700655102729797),\n",
              " ('பிழையை', 0.8099845051765442),\n",
              " ('தவறுகள்', 0.8098531365394592),\n",
              " ('பிழை', 0.7952994704246521),\n",
              " ('வழுக்கள்', 0.7758928537368774),\n",
              " ('தவியில்', 0.7736037373542786),\n",
              " ('பிழையான', 0.768975019454956),\n",
              " ('உமாபதிஉமாபதி', 0.7435733079910278),\n",
              " ('பயனர்கோபிகோபி', 0.7382937073707581),\n",
              " ('கனக்ஸ்', 0.7365349531173706)]"
            ]
          },
          "metadata": {},
          "execution_count": 40
        }
      ],
      "metadata": {
        "id": "SuXx-0wxnJ62",
        "colab_type": "code",
        "outputId": "8a7bf6de-c210-4210-d42a-5d55302764a5",
        "colab": {
          "base_uri": "https://localhost:8080/",
          "height": 241
        }
      }
    },
    {
      "cell_type": "code",
      "execution_count": null,
      "source": [
        "model.save(\"tawiki_w2v\")"
      ],
      "outputs": [
        {
          "output_type": "stream",
          "name": "stderr",
          "text": [
            "/usr/local/lib/python3.6/dist-packages/smart_open/smart_open_lib.py:398: UserWarning: This function is deprecated, use smart_open.open instead. See the migration notes for details: https://github.com/RaRe-Technologies/smart_open/blob/master/README.rst#migrating-to-the-new-open-function\n",
            "  'See the migration notes for details: %s' % _MIGRATION_NOTES_URL\n"
          ]
        }
      ],
      "metadata": {
        "id": "l6OKcvZoqhxI",
        "colab_type": "code",
        "outputId": "f6e129c0-5fc1-4dd5-8ae5-eab6b8a684fb",
        "colab": {
          "base_uri": "https://localhost:8080/",
          "height": 71
        }
      }
    },
    {
      "cell_type": "code",
      "execution_count": null,
      "source": [],
      "outputs": [],
      "metadata": {
        "id": "weN87o6vXFC1",
        "colab_type": "code",
        "colab": {}
      }
    }
  ]
}