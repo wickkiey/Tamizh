{
  "nbformat": 4,
  "nbformat_minor": 2,
  "metadata": {
    "colab": {
      "name": "Tamizh-Word2Vec.ipynb",
      "version": "0.3.2",
      "provenance": [],
      "collapsed_sections": []
    },
    "kernelspec": {
      "name": "python3",
      "display_name": "Python 3"
    }
  },
  "cells": [
    {
      "cell_type": "markdown",
      "source": [
        "# Word2Vec for Tamil words. \r\n",
        "\r\n",
        "This is to mainly to get the relation between the tamil words. \r\n"
      ],
      "metadata": {
        "id": "DzMcaeiQMQ_x",
        "colab_type": "text"
      }
    },
    {
      "cell_type": "code",
      "execution_count": null,
      "source": [
        "import pandas as pd\r\n",
        "import numpy as np \r\n",
        "import re\r\n",
        "from matplotlib import pyplot as plt"
      ],
      "outputs": [],
      "metadata": {
        "id": "_qTCGyV1IVUC",
        "colab_type": "code",
        "colab": {}
      }
    },
    {
      "cell_type": "code",
      "execution_count": null,
      "source": [
        "import sys"
      ],
      "outputs": [],
      "metadata": {
        "id": "7-B7uFwG9Asv",
        "colab_type": "code",
        "colab": {}
      }
    },
    {
      "cell_type": "code",
      "execution_count": null,
      "source": [
        "sys.setrecursionlimit(2500)"
      ],
      "outputs": [],
      "metadata": {
        "id": "SucrOP8t9H1_",
        "colab_type": "code",
        "colab": {}
      }
    },
    {
      "cell_type": "code",
      "execution_count": null,
      "source": [
        "from google.colab import drive\r\n",
        "drive.mount('/gdrive')\r\n",
        "%cd /gdrive"
      ],
      "outputs": [
        {
          "output_type": "stream",
          "name": "stdout",
          "text": [
            "Drive already mounted at /gdrive; to attempt to forcibly remount, call drive.mount(\"/gdrive\", force_remount=True).\n",
            "/gdrive\n"
          ]
        }
      ],
      "metadata": {
        "id": "HEcmCSwkIlNm",
        "colab_type": "code",
        "outputId": "6e6a3256-25ac-4c87-ac28-336f25143c88",
        "colab": {
          "base_uri": "https://localhost:8080/",
          "height": 51
        }
      }
    },
    {
      "cell_type": "code",
      "execution_count": null,
      "source": [
        "%cd /gdrive/My\\ Drive/Tamizh/data/wiki_data"
      ],
      "outputs": [
        {
          "output_type": "stream",
          "name": "stdout",
          "text": [
            "/gdrive/My Drive/Tamizh/data/wiki_data\n"
          ]
        }
      ],
      "metadata": {
        "id": "wvQUMF_GIlyE",
        "colab_type": "code",
        "outputId": "0a0befbc-04a4-444e-f7aa-45c428e3190a",
        "colab": {
          "base_uri": "https://localhost:8080/",
          "height": 34
        }
      }
    },
    {
      "cell_type": "code",
      "execution_count": null,
      "source": [
        "data = pd.read_csv(\"tawiki_data_df.csv\")"
      ],
      "outputs": [],
      "metadata": {
        "id": "FN5AK2OZIyAt",
        "colab_type": "code",
        "colab": {}
      }
    },
    {
      "cell_type": "code",
      "execution_count": null,
      "source": [
        "#shape\r\n",
        "data.shape, data.columns"
      ],
      "outputs": [
        {
          "output_type": "execute_result",
          "data": {
            "text/plain": [
              "((213758, 1), Index(['Content'], dtype='object'))"
            ]
          },
          "metadata": {
            "tags": []
          },
          "execution_count": 37
        }
      ],
      "metadata": {
        "id": "26NC0DcWJQtO",
        "colab_type": "code",
        "outputId": "130ef622-d6ac-4a87-ef08-f2e1a928d413",
        "colab": {
          "base_uri": "https://localhost:8080/",
          "height": 34
        }
      }
    },
    {
      "cell_type": "markdown",
      "source": [
        "Convert each sentence to list of tokens. \n",
        "\n",
        "*observation : this have more then 2 crore vocabulary \n",
        "* Need to find the root words  - "
      ],
      "metadata": {
        "id": "V2KmPzS8M7lJ",
        "colab_type": "text"
      }
    },
    {
      "cell_type": "code",
      "execution_count": null,
      "source": [
        "data['text_list'] = data.Content.str.split()"
      ],
      "outputs": [],
      "metadata": {
        "id": "f01hKUGjkFyA",
        "colab_type": "code",
        "colab": {}
      }
    },
    {
      "cell_type": "code",
      "execution_count": null,
      "source": [
        "data.tail()"
      ],
      "outputs": [
        {
          "output_type": "execute_result",
          "data": {
            "text/plain": [
              "                                                  Content                                          text_list\n",
              "213753  கேப்டன் மார்வெல் ஆம் ஆண்டில் வெளியான அமெரிக்க ...  [கேப்டன், மார்வெல், ஆம், ஆண்டில், வெளியான, அமெ...\n",
              "213754  வழிமாற்று திருகோணமலை பட்டினமும் சூழலும் பிரதேச...  [வழிமாற்று, திருகோணமலை, பட்டினமும், சூழலும், ப...\n",
              "213755  ஆக்கெர்டைட்டு என்பது என்ற மூலக்கூற்று வாய்ப்பா...  [ஆக்கெர்டைட்டு, என்பது, என்ற, மூலக்கூற்று, வாய...\n",
              "213756                                                NaN                                                NaN\n",
              "213757                                                NaN                                                NaN"
            ],
            "text/html": [
              "<div>\n",
              "<style scoped>\n",
              "    .dataframe tbody tr th:only-of-type {\n",
              "        vertical-align: middle;\n",
              "    }\n",
              "\n",
              "    .dataframe tbody tr th {\n",
              "        vertical-align: top;\n",
              "    }\n",
              "\n",
              "    .dataframe thead th {\n",
              "        text-align: right;\n",
              "    }\n",
              "</style>\n",
              "<table border=\"1\" class=\"dataframe\">\n",
              "  <thead>\n",
              "    <tr style=\"text-align: right;\">\n",
              "      <th></th>\n",
              "      <th>Content</th>\n",
              "      <th>text_list</th>\n",
              "    </tr>\n",
              "  </thead>\n",
              "  <tbody>\n",
              "    <tr>\n",
              "      <th>213753</th>\n",
              "      <td>கேப்டன் மார்வெல் ஆம் ஆண்டில் வெளியான அமெரிக்க ...</td>\n",
              "      <td>[கேப்டன், மார்வெல், ஆம், ஆண்டில், வெளியான, அமெ...</td>\n",
              "    </tr>\n",
              "    <tr>\n",
              "      <th>213754</th>\n",
              "      <td>வழிமாற்று திருகோணமலை பட்டினமும் சூழலும் பிரதேச...</td>\n",
              "      <td>[வழிமாற்று, திருகோணமலை, பட்டினமும், சூழலும், ப...</td>\n",
              "    </tr>\n",
              "    <tr>\n",
              "      <th>213755</th>\n",
              "      <td>ஆக்கெர்டைட்டு என்பது என்ற மூலக்கூற்று வாய்ப்பா...</td>\n",
              "      <td>[ஆக்கெர்டைட்டு, என்பது, என்ற, மூலக்கூற்று, வாய...</td>\n",
              "    </tr>\n",
              "    <tr>\n",
              "      <th>213756</th>\n",
              "      <td>NaN</td>\n",
              "      <td>NaN</td>\n",
              "    </tr>\n",
              "    <tr>\n",
              "      <th>213757</th>\n",
              "      <td>NaN</td>\n",
              "      <td>NaN</td>\n",
              "    </tr>\n",
              "  </tbody>\n",
              "</table>\n",
              "</div>"
            ]
          },
          "metadata": {
            "tags": []
          },
          "execution_count": 39
        }
      ],
      "metadata": {
        "id": "Xtah_3lWkWpe",
        "colab_type": "code",
        "outputId": "3127df08-2e48-4737-f5f8-ece8ae328fa7",
        "colab": {
          "base_uri": "https://localhost:8080/",
          "height": 204
        }
      }
    },
    {
      "cell_type": "markdown",
      "source": [
        "Remove NaN cols. ."
      ],
      "metadata": {
        "id": "6LwTMWozNQpw",
        "colab_type": "text"
      }
    },
    {
      "cell_type": "code",
      "execution_count": null,
      "source": [
        "data.dropna(inplace=True)"
      ],
      "outputs": [],
      "metadata": {
        "id": "xE25rom8EiIo",
        "colab_type": "code",
        "colab": {}
      }
    },
    {
      "cell_type": "markdown",
      "source": [
        "Get list of Unique words from the corpus"
      ],
      "metadata": {
        "id": "mWrNon6bj8JY",
        "colab_type": "text"
      }
    },
    {
      "cell_type": "code",
      "execution_count": null,
      "source": [
        "#Run this if you have good RAM\r\n",
        "\r\n",
        "vocabulary = []\r\n",
        "\r\n",
        "for i in range(data.shape[0]):\r\n",
        "  #print(i)\r\n",
        "  if(1%10000==0):\r\n",
        "    print(i)\r\n",
        "  vocabulary+=data.text_list.iloc[i]\r\n",
        "\r\n",
        "  \r\n",
        "  "
      ],
      "outputs": [],
      "metadata": {
        "id": "7mo45SyWJSdE",
        "colab_type": "code",
        "colab": {}
      }
    },
    {
      "cell_type": "code",
      "execution_count": null,
      "source": [
        "len(vocabulary)"
      ],
      "outputs": [
        {
          "output_type": "execute_result",
          "data": {
            "text/plain": [
              "21151075"
            ]
          },
          "metadata": {
            "tags": []
          },
          "execution_count": 24
        }
      ],
      "metadata": {
        "id": "AkvXt3_5n9N7",
        "colab_type": "code",
        "outputId": "6cc37a98-367f-4faa-a55e-898b96d78222",
        "colab": {
          "base_uri": "https://localhost:8080/",
          "height": 34
        }
      }
    },
    {
      "cell_type": "code",
      "execution_count": null,
      "source": [],
      "outputs": [],
      "metadata": {
        "id": "YLicyYiglrIx",
        "colab_type": "code",
        "colab": {}
      }
    },
    {
      "cell_type": "markdown",
      "source": [
        "#Word2Vec\n",
        "\n",
        "Generate word2vec representation for tokens in tamil. \n",
        "\n"
      ],
      "metadata": {
        "id": "bhNP6iD4NdoA",
        "colab_type": "text"
      }
    },
    {
      "cell_type": "code",
      "execution_count": null,
      "source": [
        "#Generate word 2 vec\r\n",
        "\r\n",
        "from gensim.models import Word2Vec"
      ],
      "outputs": [],
      "metadata": {
        "id": "6_AiFZxNk1CP",
        "colab_type": "code",
        "colab": {}
      }
    },
    {
      "cell_type": "code",
      "execution_count": null,
      "source": [
        "texts = data.text_list.values"
      ],
      "outputs": [],
      "metadata": {
        "id": "KZDfXNg1lH-b",
        "colab_type": "code",
        "colab": {}
      }
    },
    {
      "cell_type": "code",
      "execution_count": null,
      "source": [
        " \r\n",
        "model = Word2Vec(texts, size=100, window=50, min_count=20, workers=6)"
      ],
      "outputs": [],
      "metadata": {
        "id": "wwFDd7OHk7x0",
        "colab_type": "code",
        "colab": {}
      }
    },
    {
      "cell_type": "code",
      "execution_count": null,
      "source": [
        "len(model.wv.vocab)"
      ],
      "outputs": [
        {
          "output_type": "execute_result",
          "data": {
            "text/plain": [
              "80860"
            ]
          },
          "metadata": {
            "tags": []
          },
          "execution_count": 43
        }
      ],
      "metadata": {
        "id": "U4WeU6I4lVpk",
        "colab_type": "code",
        "outputId": "8191590e-f0f0-49bd-c420-4830c4e5bfdd",
        "colab": {
          "base_uri": "https://localhost:8080/",
          "height": 34
        }
      }
    },
    {
      "cell_type": "code",
      "execution_count": null,
      "source": [
        "model.wv.most_similar(\"ஐம்பது\")"
      ],
      "outputs": [
        {
          "output_type": "stream",
          "name": "stderr",
          "text": [
            "/usr/local/lib/python3.6/dist-packages/gensim/matutils.py:737: FutureWarning: Conversion of the second argument of issubdtype from `int` to `np.signedinteger` is deprecated. In future, it will be treated as `np.int64 == np.dtype(int).type`.\n",
            "  if np.issubdtype(vec.dtype, np.int):\n"
          ]
        },
        {
          "output_type": "execute_result",
          "data": {
            "text/plain": [
              "[('முப்பது', 0.7912629842758179),\n",
              " ('நூறு', 0.7821017503738403),\n",
              " ('நாற்பது', 0.7711770534515381),\n",
              " ('பதினைந்து', 0.7171321511268616),\n",
              " ('ஆயிரத்து', 0.7063670754432678),\n",
              " ('எண்பது', 0.6890194416046143),\n",
              " ('பத்து', 0.6858401298522949),\n",
              " ('அறுபது', 0.6848776340484619),\n",
              " ('இரண்டரை', 0.6679751873016357),\n",
              " ('இலட்சம்', 0.6582279205322266)]"
            ]
          },
          "metadata": {
            "tags": []
          },
          "execution_count": 48
        }
      ],
      "metadata": {
        "id": "SuXx-0wxnJ62",
        "colab_type": "code",
        "outputId": "8a7bf6de-c210-4210-d42a-5d55302764a5",
        "colab": {
          "base_uri": "https://localhost:8080/",
          "height": 241
        }
      }
    },
    {
      "cell_type": "code",
      "execution_count": null,
      "source": [
        "model.save(\"tawiki_w2v\")"
      ],
      "outputs": [
        {
          "output_type": "stream",
          "name": "stderr",
          "text": [
            "/usr/local/lib/python3.6/dist-packages/smart_open/smart_open_lib.py:398: UserWarning: This function is deprecated, use smart_open.open instead. See the migration notes for details: https://github.com/RaRe-Technologies/smart_open/blob/master/README.rst#migrating-to-the-new-open-function\n",
            "  'See the migration notes for details: %s' % _MIGRATION_NOTES_URL\n"
          ]
        }
      ],
      "metadata": {
        "id": "l6OKcvZoqhxI",
        "colab_type": "code",
        "outputId": "f6e129c0-5fc1-4dd5-8ae5-eab6b8a684fb",
        "colab": {
          "base_uri": "https://localhost:8080/",
          "height": 71
        }
      }
    },
    {
      "cell_type": "code",
      "execution_count": null,
      "source": [],
      "outputs": [],
      "metadata": {
        "id": "weN87o6vXFC1",
        "colab_type": "code",
        "colab": {}
      }
    }
  ]
}