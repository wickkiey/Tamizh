{
  "cells": [
    {
      "cell_type": "markdown",
      "metadata": {
        "colab_type": "text",
        "id": "DzMcaeiQMQ_x"
      },
      "source": [
        "# Word2Vec for Tamil words. \n",
        "\n",
        "Converting words to vector representation and similarity map generation\n",
        "\n",
        "Fine plural form of words\n"
      ]
    },
    {
      "cell_type": "code",
      "execution_count": 1,
      "metadata": {
        "colab": {},
        "colab_type": "code",
        "id": "_qTCGyV1IVUC"
      },
      "outputs": [],
      "source": [
        "import pandas as pd\n",
        "import numpy as np \n",
        "import re\n",
        "from matplotlib import pyplot as plt\n",
        "import regex\n",
        "from tqdm import tqdm\n"
      ]
    },
    {
      "cell_type": "code",
      "execution_count": 2,
      "metadata": {
        "colab": {},
        "colab_type": "code",
        "id": "7-B7uFwG9Asv"
      },
      "outputs": [],
      "source": [
        "import sys"
      ]
    },
    {
      "cell_type": "code",
      "execution_count": 3,
      "metadata": {
        "colab": {},
        "colab_type": "code",
        "id": "SucrOP8t9H1_"
      },
      "outputs": [],
      "source": [
        "sys.setrecursionlimit(2500)"
      ]
    },
    {
      "cell_type": "code",
      "execution_count": 4,
      "metadata": {},
      "outputs": [],
      "source": [
        "In_Colab = False\n",
        "if 'google.colab' in str(get_ipython()):\n",
        "    print('Running on CoLab')\n",
        "    In_Colab = True"
      ]
    },
    {
      "cell_type": "code",
      "execution_count": 5,
      "metadata": {
        "colab": {
          "base_uri": "https://localhost:8080/",
          "height": 51
        },
        "colab_type": "code",
        "id": "HEcmCSwkIlNm",
        "outputId": "6e6a3256-25ac-4c87-ac28-336f25143c88"
      },
      "outputs": [],
      "source": [
        "if In_Colab:\n",
        "    from google.colab import drive\n",
        "    drive.mount('/gdrive')\n",
        "\n",
        "    %cd /gdrive/My\\ Drive/Tamizh/data/wiki_data"
      ]
    },
    {
      "cell_type": "code",
      "execution_count": null,
      "metadata": {},
      "outputs": [],
      "source": []
    },
    {
      "cell_type": "code",
      "execution_count": 6,
      "metadata": {},
      "outputs": [],
      "source": [
        "from constants import *"
      ]
    },
    {
      "cell_type": "code",
      "execution_count": 7,
      "metadata": {
        "colab": {},
        "colab_type": "code",
        "id": "FN5AK2OZIyAt"
      },
      "outputs": [],
      "source": [
        "data = pd.read_csv(\"../data/tawiki_data_df.csv\")"
      ]
    },
    {
      "cell_type": "code",
      "execution_count": 8,
      "metadata": {
        "colab": {
          "base_uri": "https://localhost:8080/",
          "height": 34
        },
        "colab_type": "code",
        "id": "26NC0DcWJQtO",
        "outputId": "130ef622-d6ac-4a87-ef08-f2e1a928d413"
      },
      "outputs": [
        {
          "data": {
            "text/plain": [
              "(247759, 1)"
            ]
          },
          "execution_count": 8,
          "metadata": {},
          "output_type": "execute_result"
        }
      ],
      "source": [
        "# Shape of the data\n",
        "data.shape"
      ]
    },
    {
      "cell_type": "code",
      "execution_count": 9,
      "metadata": {},
      "outputs": [],
      "source": [
        "data = data.dropna()"
      ]
    },
    {
      "cell_type": "code",
      "execution_count": 10,
      "metadata": {},
      "outputs": [
        {
          "data": {
            "text/plain": [
              "(211814, 1)"
            ]
          },
          "execution_count": 10,
          "metadata": {},
          "output_type": "execute_result"
        }
      ],
      "source": [
        "data.shape"
      ]
    },
    {
      "cell_type": "markdown",
      "metadata": {
        "colab_type": "text",
        "id": "V2KmPzS8M7lJ"
      },
      "source": [
        "#### Convert each sentence to list of tokens. \n",
        "\n",
        "*observation : this have more then 2 crore vocabulary \n",
        "* Need to find the root words  - "
      ]
    },
    {
      "cell_type": "code",
      "execution_count": 11,
      "metadata": {},
      "outputs": [
        {
          "data": {
            "text/html": [
              "<div>\n",
              "<style scoped>\n",
              "    .dataframe tbody tr th:only-of-type {\n",
              "        vertical-align: middle;\n",
              "    }\n",
              "\n",
              "    .dataframe tbody tr th {\n",
              "        vertical-align: top;\n",
              "    }\n",
              "\n",
              "    .dataframe thead th {\n",
              "        text-align: right;\n",
              "    }\n",
              "</style>\n",
              "<table border=\"1\" class=\"dataframe\">\n",
              "  <thead>\n",
              "    <tr style=\"text-align: right;\">\n",
              "      <th></th>\n",
              "      <th>Content</th>\n",
              "    </tr>\n",
              "  </thead>\n",
              "  <tbody>\n",
              "    <tr>\n",
              "      <th>0</th>\n",
              "      <td>விக்கிப்பீடியா மொழிகள்</td>\n",
              "    </tr>\n",
              "    <tr>\n",
              "      <th>1</th>\n",
              "      <td>இங்கு தமிழ் விக்கிப்பீடியாவைப் பற்றிய உங்கள் ப...</td>\n",
              "    </tr>\n",
              "    <tr>\n",
              "      <th>2</th>\n",
              "      <td>விக்கிப்பீடியா அதன் வாசகர்களால் ஒருமித்து எழுத...</td>\n",
              "    </tr>\n",
              "    <tr>\n",
              "      <th>3</th>\n",
              "      <td>விக்கிப்பீடியாவுக்கு கட்டுரை எழுதி மேம்படுத்தி...</td>\n",
              "    </tr>\n",
              "    <tr>\n",
              "      <th>4</th>\n",
              "      <td>முகலாயக் கட்டிடக்கலைமுகலாய கட்டடக்கலையின் சிற...</td>\n",
              "    </tr>\n",
              "  </tbody>\n",
              "</table>\n",
              "</div>"
            ],
            "text/plain": [
              "                                             Content\n",
              "0                             விக்கிப்பீடியா மொழிகள்\n",
              "1  இங்கு தமிழ் விக்கிப்பீடியாவைப் பற்றிய உங்கள் ப...\n",
              "2  விக்கிப்பீடியா அதன் வாசகர்களால் ஒருமித்து எழுத...\n",
              "3  விக்கிப்பீடியாவுக்கு கட்டுரை எழுதி மேம்படுத்தி...\n",
              "4   முகலாயக் கட்டிடக்கலைமுகலாய கட்டடக்கலையின் சிற..."
            ]
          },
          "execution_count": 11,
          "metadata": {},
          "output_type": "execute_result"
        }
      ],
      "source": [
        "data.head()"
      ]
    },
    {
      "cell_type": "markdown",
      "metadata": {},
      "source": [
        "### Drop NA values"
      ]
    },
    {
      "cell_type": "markdown",
      "metadata": {},
      "source": [
        "### Convert as one long sentence. This will be useful for cleaning vallina migu sorrkal."
      ]
    },
    {
      "cell_type": "code",
      "execution_count": null,
      "metadata": {},
      "outputs": [],
      "source": []
    },
    {
      "cell_type": "markdown",
      "metadata": {},
      "source": [
        "## Data Cleaning "
      ]
    },
    {
      "cell_type": "code",
      "execution_count": 12,
      "metadata": {},
      "outputs": [],
      "source": [
        "def split_text(text):\n",
        "    return regex.findall(r'\\X', text, regex.U)\n",
        "\n",
        "def conv_base(text):\n",
        "    return [split_map.get(k) for k in split_text(text)]\n",
        "\n",
        "def _lastmap(text):\n",
        "    if len(text[-1])>1:\n",
        "        return text[-1][-1]\n",
        "    return text[-1][0]\n",
        "\n",
        "def _firstmap(text):\n",
        "    return text[0][0]\n",
        "\n",
        "def is_vallmigu_pair(text1,text2):\n",
        "    try:\n",
        "        text1 = conv_base(text1)\n",
        "        text2 = conv_base(text2)\n",
        "        if (_lastmap(text1) in vall_migu) and (_firstmap(text2) in vall_migu):\n",
        "            return True\n",
        "        else:\n",
        "            return False\n",
        "    except:\n",
        "        return False"
      ]
    },
    {
      "cell_type": "code",
      "execution_count": 13,
      "metadata": {},
      "outputs": [],
      "source": [
        "def clean_split(text):\n",
        "    text = re.sub(\"\\s+\",\" \",text.strip())\n",
        "    return text.split(' ')"
      ]
    },
    {
      "cell_type": "code",
      "execution_count": 14,
      "metadata": {},
      "outputs": [
        {
          "data": {
            "text/html": [
              "<div>\n",
              "<style scoped>\n",
              "    .dataframe tbody tr th:only-of-type {\n",
              "        vertical-align: middle;\n",
              "    }\n",
              "\n",
              "    .dataframe tbody tr th {\n",
              "        vertical-align: top;\n",
              "    }\n",
              "\n",
              "    .dataframe thead th {\n",
              "        text-align: right;\n",
              "    }\n",
              "</style>\n",
              "<table border=\"1\" class=\"dataframe\">\n",
              "  <thead>\n",
              "    <tr style=\"text-align: right;\">\n",
              "      <th></th>\n",
              "      <th>Content</th>\n",
              "    </tr>\n",
              "  </thead>\n",
              "  <tbody>\n",
              "    <tr>\n",
              "      <th>0</th>\n",
              "      <td>விக்கிப்பீடியா மொழிகள்</td>\n",
              "    </tr>\n",
              "    <tr>\n",
              "      <th>1</th>\n",
              "      <td>இங்கு தமிழ் விக்கிப்பீடியாவைப் பற்றிய உங்கள் ப...</td>\n",
              "    </tr>\n",
              "    <tr>\n",
              "      <th>2</th>\n",
              "      <td>விக்கிப்பீடியா அதன் வாசகர்களால் ஒருமித்து எழுத...</td>\n",
              "    </tr>\n",
              "    <tr>\n",
              "      <th>3</th>\n",
              "      <td>விக்கிப்பீடியாவுக்கு கட்டுரை எழுதி மேம்படுத்தி...</td>\n",
              "    </tr>\n",
              "    <tr>\n",
              "      <th>4</th>\n",
              "      <td>முகலாயக் கட்டிடக்கலைமுகலாய கட்டடக்கலையின் சிற...</td>\n",
              "    </tr>\n",
              "  </tbody>\n",
              "</table>\n",
              "</div>"
            ],
            "text/plain": [
              "                                             Content\n",
              "0                             விக்கிப்பீடியா மொழிகள்\n",
              "1  இங்கு தமிழ் விக்கிப்பீடியாவைப் பற்றிய உங்கள் ப...\n",
              "2  விக்கிப்பீடியா அதன் வாசகர்களால் ஒருமித்து எழுத...\n",
              "3  விக்கிப்பீடியாவுக்கு கட்டுரை எழுதி மேம்படுத்தி...\n",
              "4   முகலாயக் கட்டிடக்கலைமுகலாய கட்டடக்கலையின் சிற..."
            ]
          },
          "execution_count": 14,
          "metadata": {},
          "output_type": "execute_result"
        }
      ],
      "source": [
        "data.head()"
      ]
    },
    {
      "cell_type": "code",
      "execution_count": 15,
      "metadata": {},
      "outputs": [],
      "source": [
        "vallmigu_pair_set = set()"
      ]
    },
    {
      "cell_type": "code",
      "execution_count": 16,
      "metadata": {},
      "outputs": [],
      "source": [
        "data['processed'] = data.Content.apply(clean_split)"
      ]
    },
    {
      "cell_type": "code",
      "execution_count": 17,
      "metadata": {},
      "outputs": [],
      "source": [
        "def parse_clean_text(text):\n",
        "    global vallmigu_pair_set\n",
        "    for i in range(len(text)-2):\n",
        "        if is_vallmigu_pair(text[i],text[i+1]):\n",
        "            vallmigu_pair_set.add((text[i],text[i+1]))\n",
        "            text[i] = ''.join(split_text(text[i])[:-1])\n",
        "    return text"
      ]
    },
    {
      "cell_type": "code",
      "execution_count": 18,
      "metadata": {},
      "outputs": [],
      "source": [
        "# from multiprocessing import Pool "
      ]
    },
    {
      "cell_type": "code",
      "execution_count": 19,
      "metadata": {},
      "outputs": [],
      "source": [
        "# with Pool(5) as p:\n",
        "#     text_list = p.map(parse_clean_text,data.Content.values)"
      ]
    },
    {
      "cell_type": "code",
      "execution_count": null,
      "metadata": {},
      "outputs": [],
      "source": []
    },
    {
      "cell_type": "code",
      "execution_count": 20,
      "metadata": {},
      "outputs": [
        {
          "name": "stderr",
          "output_type": "stream",
          "text": [
            "100%|██████████| 211814/211814 [15:36<00:00, 226.09it/s]\n"
          ]
        }
      ],
      "source": [
        "\n",
        "for row in tqdm(range(data.shape[0])):\n",
        "    text = data.processed.iloc[row]\n",
        "    for i in range(len(text)-2):\n",
        "        if is_vallmigu_pair(text[i],text[i+1]):\n",
        "            vallmigu_pair_set.add((text[i],text[i+1]))\n",
        "            text[i] = ''.join(split_text(text[i])[:-1])\n",
        "    data.processed.iloc[row]= text\n",
        "\n"
      ]
    },
    {
      "cell_type": "code",
      "execution_count": 21,
      "metadata": {},
      "outputs": [],
      "source": [
        "# ~1200 sec nearly 20 mins "
      ]
    },
    {
      "cell_type": "code",
      "execution_count": 22,
      "metadata": {},
      "outputs": [
        {
          "data": {
            "text/html": [
              "<div>\n",
              "<style scoped>\n",
              "    .dataframe tbody tr th:only-of-type {\n",
              "        vertical-align: middle;\n",
              "    }\n",
              "\n",
              "    .dataframe tbody tr th {\n",
              "        vertical-align: top;\n",
              "    }\n",
              "\n",
              "    .dataframe thead th {\n",
              "        text-align: right;\n",
              "    }\n",
              "</style>\n",
              "<table border=\"1\" class=\"dataframe\">\n",
              "  <thead>\n",
              "    <tr style=\"text-align: right;\">\n",
              "      <th></th>\n",
              "      <th>Content</th>\n",
              "      <th>processed</th>\n",
              "    </tr>\n",
              "  </thead>\n",
              "  <tbody>\n",
              "    <tr>\n",
              "      <th>0</th>\n",
              "      <td>விக்கிப்பீடியா மொழிகள்</td>\n",
              "      <td>[விக்கிப்பீடியா, மொழிகள்]</td>\n",
              "    </tr>\n",
              "    <tr>\n",
              "      <th>1</th>\n",
              "      <td>இங்கு தமிழ் விக்கிப்பீடியாவைப் பற்றிய உங்கள் ப...</td>\n",
              "      <td>[இங்கு, தமிழ், விக்கிப்பீடியாவை, பற்றிய, உங்கள...</td>\n",
              "    </tr>\n",
              "    <tr>\n",
              "      <th>2</th>\n",
              "      <td>விக்கிப்பீடியா அதன் வாசகர்களால் ஒருமித்து எழுத...</td>\n",
              "      <td>[விக்கிப்பீடியா, அதன், வாசகர்களால், ஒருமித்து,...</td>\n",
              "    </tr>\n",
              "    <tr>\n",
              "      <th>3</th>\n",
              "      <td>விக்கிப்பீடியாவுக்கு கட்டுரை எழுதி மேம்படுத்தி...</td>\n",
              "      <td>[விக்கிப்பீடியாவுக்கு, கட்டுரை, எழுதி, மேம்படு...</td>\n",
              "    </tr>\n",
              "    <tr>\n",
              "      <th>4</th>\n",
              "      <td>முகலாயக் கட்டிடக்கலைமுகலாய கட்டடக்கலையின் சிற...</td>\n",
              "      <td>[முகலாய, கட்டிடக்கலைமுகலாய, கட்டடக்கலையின், சி...</td>\n",
              "    </tr>\n",
              "  </tbody>\n",
              "</table>\n",
              "</div>"
            ],
            "text/plain": [
              "                                             Content  \\\n",
              "0                             விக்கிப்பீடியா மொழிகள்   \n",
              "1  இங்கு தமிழ் விக்கிப்பீடியாவைப் பற்றிய உங்கள் ப...   \n",
              "2  விக்கிப்பீடியா அதன் வாசகர்களால் ஒருமித்து எழுத...   \n",
              "3  விக்கிப்பீடியாவுக்கு கட்டுரை எழுதி மேம்படுத்தி...   \n",
              "4   முகலாயக் கட்டிடக்கலைமுகலாய கட்டடக்கலையின் சிற...   \n",
              "\n",
              "                                           processed  \n",
              "0                          [விக்கிப்பீடியா, மொழிகள்]  \n",
              "1  [இங்கு, தமிழ், விக்கிப்பீடியாவை, பற்றிய, உங்கள...  \n",
              "2  [விக்கிப்பீடியா, அதன், வாசகர்களால், ஒருமித்து,...  \n",
              "3  [விக்கிப்பீடியாவுக்கு, கட்டுரை, எழுதி, மேம்படு...  \n",
              "4  [முகலாய, கட்டிடக்கலைமுகலாய, கட்டடக்கலையின், சி...  "
            ]
          },
          "execution_count": 22,
          "metadata": {},
          "output_type": "execute_result"
        }
      ],
      "source": [
        "data.head()"
      ]
    },
    {
      "cell_type": "code",
      "execution_count": 23,
      "metadata": {},
      "outputs": [
        {
          "data": {
            "text/plain": [
              "787020"
            ]
          },
          "execution_count": 23,
          "metadata": {},
          "output_type": "execute_result"
        }
      ],
      "source": [
        "len(vallmigu_pair_set)"
      ]
    },
    {
      "cell_type": "markdown",
      "metadata": {
        "colab_type": "text",
        "id": "bhNP6iD4NdoA"
      },
      "source": [
        "#Word2Vec\n",
        "\n",
        "Generate word2vec representation for tokens in tamil. \n",
        "\n"
      ]
    },
    {
      "cell_type": "code",
      "execution_count": 24,
      "metadata": {},
      "outputs": [],
      "source": [
        "import pickle\n",
        "\n",
        "with open('../data/vallmigu_pair.pkl','wb') as f:\n",
        "    pickle.dump(vallmigu_pair_set,f)"
      ]
    },
    {
      "cell_type": "code",
      "execution_count": 25,
      "metadata": {
        "colab": {},
        "colab_type": "code",
        "id": "6_AiFZxNk1CP"
      },
      "outputs": [],
      "source": [
        "#Generate word 2 vec\n",
        "\n",
        "from gensim.models import Word2Vec"
      ]
    },
    {
      "cell_type": "code",
      "execution_count": 26,
      "metadata": {},
      "outputs": [],
      "source": [
        "texts = data.processed.values"
      ]
    },
    {
      "cell_type": "code",
      "execution_count": 27,
      "metadata": {
        "colab": {},
        "colab_type": "code",
        "id": "wwFDd7OHk7x0"
      },
      "outputs": [],
      "source": [
        " \n",
        "model = Word2Vec(texts, vector_size=100, window=50, min_count=10, workers=6)"
      ]
    },
    {
      "cell_type": "code",
      "execution_count": 28,
      "metadata": {
        "colab": {
          "base_uri": "https://localhost:8080/",
          "height": 34
        },
        "colab_type": "code",
        "id": "U4WeU6I4lVpk",
        "outputId": "8191590e-f0f0-49bd-c420-4830c4e5bfdd"
      },
      "outputs": [],
      "source": [
        "# len(model.wv.vocab)"
      ]
    },
    {
      "cell_type": "code",
      "execution_count": 34,
      "metadata": {
        "colab": {
          "base_uri": "https://localhost:8080/",
          "height": 241
        },
        "colab_type": "code",
        "id": "SuXx-0wxnJ62",
        "outputId": "8a7bf6de-c210-4210-d42a-5d55302764a5"
      },
      "outputs": [
        {
          "data": {
            "text/plain": [
              "[('வயல்கள்', 0.759262204170227),\n",
              " ('பனை', 0.7393096685409546),\n",
              " ('மரங்களும்', 0.7370815277099609),\n",
              " ('தென்னை', 0.734723687171936),\n",
              " ('மருத', 0.7170229554176331),\n",
              " ('வயலும்', 0.7027963399887085),\n",
              " ('சூழ்ந்த', 0.6919956207275391),\n",
              " ('காடும்', 0.6733906269073486),\n",
              " ('வேம்பு', 0.6708276271820068),\n",
              " ('வயல்களும்', 0.6685636639595032)]"
            ]
          },
          "execution_count": 34,
          "metadata": {},
          "output_type": "execute_result"
        }
      ],
      "source": [
        "model.wv.most_similar(\"வயல்\")"
      ]
    },
    {
      "cell_type": "code",
      "execution_count": 31,
      "metadata": {
        "colab": {
          "base_uri": "https://localhost:8080/",
          "height": 71
        },
        "colab_type": "code",
        "id": "l6OKcvZoqhxI",
        "outputId": "f6e129c0-5fc1-4dd5-8ae5-eab6b8a684fb"
      },
      "outputs": [],
      "source": [
        "model.save(\"../model/tawiki_w2v\")"
      ]
    },
    {
      "cell_type": "code",
      "execution_count": null,
      "metadata": {
        "colab": {},
        "colab_type": "code",
        "id": "weN87o6vXFC1"
      },
      "outputs": [],
      "source": []
    },
    {
      "cell_type": "code",
      "execution_count": null,
      "metadata": {},
      "outputs": [],
      "source": []
    },
    {
      "cell_type": "code",
      "execution_count": null,
      "metadata": {},
      "outputs": [],
      "source": []
    }
  ],
  "metadata": {
    "colab": {
      "collapsed_sections": [],
      "name": "Tamizh-Word2Vec.ipynb",
      "provenance": [],
      "version": "0.3.2"
    },
    "kernelspec": {
      "display_name": "Python 3.9.13 ('mlcpu')",
      "language": "python",
      "name": "python3"
    },
    "language_info": {
      "codemirror_mode": {
        "name": "ipython",
        "version": 3
      },
      "file_extension": ".py",
      "mimetype": "text/x-python",
      "name": "python",
      "nbconvert_exporter": "python",
      "pygments_lexer": "ipython3",
      "version": "3.9.13"
    },
    "vscode": {
      "interpreter": {
        "hash": "c5748c1565c1706c28b404b55436b62b6077c6512afb1061aa07a949deeb1fa3"
      }
    }
  },
  "nbformat": 4,
  "nbformat_minor": 2
}
