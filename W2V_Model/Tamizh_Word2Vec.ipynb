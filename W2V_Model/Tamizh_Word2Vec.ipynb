{
  "nbformat": 4,
  "nbformat_minor": 2,
  "metadata": {
    "colab": {
      "name": "Tamizh-Word2Vec.ipynb",
      "version": "0.3.2",
      "provenance": [],
      "collapsed_sections": []
    },
    "kernelspec": {
      "name": "python3",
      "display_name": "Python 3.8.10 64-bit ('deepcpu': conda)"
    },
    "language_info": {
      "name": "python",
      "version": "3.8.10",
      "mimetype": "text/x-python",
      "codemirror_mode": {
        "name": "ipython",
        "version": 3
      },
      "pygments_lexer": "ipython3",
      "nbconvert_exporter": "python",
      "file_extension": ".py"
    },
    "interpreter": {
      "hash": "225e9c3dad8bdaa08775d424574c5a097d8974f53246e85eec604db0c0bf068c"
    }
  },
  "cells": [
    {
      "cell_type": "markdown",
      "source": [
        "# Word2Vec for Tamil words. \r\n",
        "\r\n",
        "Converting words to vector representation and similarity map generation\r\n"
      ],
      "metadata": {
        "id": "DzMcaeiQMQ_x",
        "colab_type": "text"
      }
    },
    {
      "cell_type": "code",
      "execution_count": 2,
      "source": [
        "import pandas as pd\r\n",
        "import numpy as np \r\n",
        "import re\r\n",
        "from matplotlib import pyplot as plt\r\n",
        "import regex\r\n",
        "from tqdm import tqdm"
      ],
      "outputs": [],
      "metadata": {
        "id": "_qTCGyV1IVUC",
        "colab_type": "code",
        "colab": {}
      }
    },
    {
      "cell_type": "code",
      "execution_count": 3,
      "source": [
        "import sys"
      ],
      "outputs": [],
      "metadata": {
        "id": "7-B7uFwG9Asv",
        "colab_type": "code",
        "colab": {}
      }
    },
    {
      "cell_type": "code",
      "execution_count": 4,
      "source": [
        "sys.setrecursionlimit(2500)"
      ],
      "outputs": [],
      "metadata": {
        "id": "SucrOP8t9H1_",
        "colab_type": "code",
        "colab": {}
      }
    },
    {
      "cell_type": "code",
      "execution_count": 5,
      "source": [
        "In_Colab = False\r\n",
        "if 'google.colab' in str(get_ipython()):\r\n",
        "    print('Running on CoLab')\r\n",
        "    In_Colab = True"
      ],
      "outputs": [],
      "metadata": {}
    },
    {
      "cell_type": "code",
      "execution_count": 6,
      "source": [
        "if In_Colab:\r\n",
        "    from google.colab import drive\r\n",
        "    drive.mount('/gdrive')\r\n",
        "\r\n",
        "    %cd /gdrive/My\\ Drive/Tamizh/data/wiki_data"
      ],
      "outputs": [],
      "metadata": {
        "id": "HEcmCSwkIlNm",
        "colab_type": "code",
        "outputId": "6e6a3256-25ac-4c87-ac28-336f25143c88",
        "colab": {
          "base_uri": "https://localhost:8080/",
          "height": 51
        }
      }
    },
    {
      "cell_type": "code",
      "execution_count": null,
      "source": [],
      "outputs": [],
      "metadata": {}
    },
    {
      "cell_type": "code",
      "execution_count": 7,
      "source": [
        "from constants import *"
      ],
      "outputs": [],
      "metadata": {}
    },
    {
      "cell_type": "code",
      "execution_count": 8,
      "source": [
        "data = pd.read_csv(\"../data/tawiki_data_df.csv\")"
      ],
      "outputs": [],
      "metadata": {
        "id": "FN5AK2OZIyAt",
        "colab_type": "code",
        "colab": {}
      }
    },
    {
      "cell_type": "code",
      "execution_count": 9,
      "source": [
        "# Shape of the data\r\n",
        "data.shape"
      ],
      "outputs": [
        {
          "output_type": "execute_result",
          "data": {
            "text/plain": [
              "(234621, 1)"
            ]
          },
          "metadata": {},
          "execution_count": 9
        }
      ],
      "metadata": {
        "id": "26NC0DcWJQtO",
        "colab_type": "code",
        "outputId": "130ef622-d6ac-4a87-ef08-f2e1a928d413",
        "colab": {
          "base_uri": "https://localhost:8080/",
          "height": 34
        }
      }
    },
    {
      "cell_type": "code",
      "execution_count": 10,
      "source": [
        "data = data.dropna()"
      ],
      "outputs": [],
      "metadata": {}
    },
    {
      "cell_type": "code",
      "execution_count": 11,
      "source": [
        "data.shape"
      ],
      "outputs": [
        {
          "output_type": "execute_result",
          "data": {
            "text/plain": [
              "(200655, 1)"
            ]
          },
          "metadata": {},
          "execution_count": 11
        }
      ],
      "metadata": {}
    },
    {
      "cell_type": "markdown",
      "source": [
        "#### Convert each sentence to list of tokens. \r\n",
        "\r\n",
        "*observation : this have more then 2 crore vocabulary \r\n",
        "* Need to find the root words  - "
      ],
      "metadata": {
        "id": "V2KmPzS8M7lJ",
        "colab_type": "text"
      }
    },
    {
      "cell_type": "code",
      "execution_count": 12,
      "source": [
        "data.head()"
      ],
      "outputs": [
        {
          "output_type": "execute_result",
          "data": {
            "text/plain": [
              "                                             Content\n",
              "0                             விக்கிப்பீடியா மொழிகள்\n",
              "1  இங்கு தமிழ் விக்கிப்பீடியாவைப் பற்றிய உங்கள் ப...\n",
              "2  விக்கிப்பீடியா அதன் வாசகர்களால் ஒருமித்து எழுத...\n",
              "3  விக்கிப்பீடியாவுக்கு கட்டுரை எழுதி மேம்படுத்தி...\n",
              "4   முகலாயக் கட்டிடக்கலைமுகலாய கட்டடக்கலையின் சிற..."
            ],
            "text/html": [
              "<div>\n",
              "<style scoped>\n",
              "    .dataframe tbody tr th:only-of-type {\n",
              "        vertical-align: middle;\n",
              "    }\n",
              "\n",
              "    .dataframe tbody tr th {\n",
              "        vertical-align: top;\n",
              "    }\n",
              "\n",
              "    .dataframe thead th {\n",
              "        text-align: right;\n",
              "    }\n",
              "</style>\n",
              "<table border=\"1\" class=\"dataframe\">\n",
              "  <thead>\n",
              "    <tr style=\"text-align: right;\">\n",
              "      <th></th>\n",
              "      <th>Content</th>\n",
              "    </tr>\n",
              "  </thead>\n",
              "  <tbody>\n",
              "    <tr>\n",
              "      <th>0</th>\n",
              "      <td>விக்கிப்பீடியா மொழிகள்</td>\n",
              "    </tr>\n",
              "    <tr>\n",
              "      <th>1</th>\n",
              "      <td>இங்கு தமிழ் விக்கிப்பீடியாவைப் பற்றிய உங்கள் ப...</td>\n",
              "    </tr>\n",
              "    <tr>\n",
              "      <th>2</th>\n",
              "      <td>விக்கிப்பீடியா அதன் வாசகர்களால் ஒருமித்து எழுத...</td>\n",
              "    </tr>\n",
              "    <tr>\n",
              "      <th>3</th>\n",
              "      <td>விக்கிப்பீடியாவுக்கு கட்டுரை எழுதி மேம்படுத்தி...</td>\n",
              "    </tr>\n",
              "    <tr>\n",
              "      <th>4</th>\n",
              "      <td>முகலாயக் கட்டிடக்கலைமுகலாய கட்டடக்கலையின் சிற...</td>\n",
              "    </tr>\n",
              "  </tbody>\n",
              "</table>\n",
              "</div>"
            ]
          },
          "metadata": {},
          "execution_count": 12
        }
      ],
      "metadata": {}
    },
    {
      "cell_type": "markdown",
      "source": [
        "### Drop NA values"
      ],
      "metadata": {}
    },
    {
      "cell_type": "markdown",
      "source": [
        "### Convert as one long sentence. This will be useful for cleaning vallina migu sorrkal."
      ],
      "metadata": {}
    },
    {
      "cell_type": "code",
      "execution_count": 13,
      "source": [
        "one_long_sent = data.Content.str.cat(sep=' ')"
      ],
      "outputs": [],
      "metadata": {}
    },
    {
      "cell_type": "markdown",
      "source": [
        "## Data Cleaning "
      ],
      "metadata": {}
    },
    {
      "cell_type": "code",
      "execution_count": 14,
      "source": [
        "def split_text(text):\r\n",
        "    return regex.findall(r'\\X', text, regex.U)\r\n",
        "\r\n",
        "def conv_base(text):\r\n",
        "    return [split_map.get(k) for k in split_text(text)]\r\n",
        "\r\n",
        "def _lastmap(text):\r\n",
        "    if len(text[-1])>1:\r\n",
        "        return text[-1][-1]\r\n",
        "    return text[-1][0]\r\n",
        "\r\n",
        "def _firstmap(text):\r\n",
        "    return text[0][0]\r\n",
        "\r\n",
        "def is_vallmigu_pair(text1,text2):\r\n",
        "    try:\r\n",
        "        text1 = conv_base(text1)\r\n",
        "        text2 = conv_base(text2)\r\n",
        "        if (_lastmap(text1) in vall_migu) and (_firstmap(text2) in vall_migu):\r\n",
        "            return True\r\n",
        "        else:\r\n",
        "            return False\r\n",
        "    except:\r\n",
        "        return False"
      ],
      "outputs": [],
      "metadata": {}
    },
    {
      "cell_type": "code",
      "execution_count": null,
      "source": [],
      "outputs": [],
      "metadata": {}
    },
    {
      "cell_type": "markdown",
      "source": [
        "Remove NaN cols. ."
      ],
      "metadata": {
        "id": "6LwTMWozNQpw",
        "colab_type": "text"
      }
    },
    {
      "cell_type": "markdown",
      "source": [
        "Get list of Unique words from the corpus"
      ],
      "metadata": {
        "id": "mWrNon6bj8JY",
        "colab_type": "text"
      }
    },
    {
      "cell_type": "code",
      "execution_count": 15,
      "source": [
        "one_long_sent = re.sub(\"\\s+\", \" \", one_long_sent)"
      ],
      "outputs": [],
      "metadata": {}
    },
    {
      "cell_type": "code",
      "execution_count": 16,
      "source": [
        "one_long_list = one_long_sent.split(' ')"
      ],
      "outputs": [],
      "metadata": {}
    },
    {
      "cell_type": "code",
      "execution_count": 17,
      "source": [
        "print(f\"Length of vocabulary {len(one_long_list)}\")"
      ],
      "outputs": [
        {
          "output_type": "stream",
          "name": "stdout",
          "text": [
            "Length of vocabulary 24058566\n"
          ]
        }
      ],
      "metadata": {}
    },
    {
      "cell_type": "code",
      "execution_count": 18,
      "source": [
        "len(one_long_list)"
      ],
      "outputs": [
        {
          "output_type": "execute_result",
          "data": {
            "text/plain": [
              "24058566"
            ]
          },
          "metadata": {},
          "execution_count": 18
        }
      ],
      "metadata": {}
    },
    {
      "cell_type": "code",
      "execution_count": 19,
      "source": [
        "one_long_list_len  = len(one_long_list)"
      ],
      "outputs": [],
      "metadata": {}
    },
    {
      "cell_type": "code",
      "execution_count": 20,
      "source": [
        "one_long_list[1]"
      ],
      "outputs": [
        {
          "output_type": "execute_result",
          "data": {
            "text/plain": [
              "'விக்கிப்பீடியா'"
            ]
          },
          "metadata": {},
          "execution_count": 20
        }
      ],
      "metadata": {}
    },
    {
      "cell_type": "code",
      "execution_count": 21,
      "source": [
        "vallmigu_pair_set = set()"
      ],
      "outputs": [],
      "metadata": {}
    },
    {
      "cell_type": "code",
      "execution_count": 22,
      "source": [
        "split_text(one_long_list[2])"
      ],
      "outputs": [
        {
          "output_type": "execute_result",
          "data": {
            "text/plain": [
              "['மொ', 'ழி', 'க', 'ள்']"
            ]
          },
          "metadata": {},
          "execution_count": 22
        }
      ],
      "metadata": {}
    },
    {
      "cell_type": "code",
      "execution_count": 23,
      "source": [
        "\r\n",
        "for i in tqdm(range(1,one_long_list_len-2)):\r\n",
        "    if is_vallmigu_pair(one_long_list[i],one_long_list[i+1]):\r\n",
        "        vallmigu_pair_set.add((one_long_list[i],one_long_list[i+1]))\r\n",
        "        one_long_list[i] = ''.join(split_text(one_long_list[i])[:-1])\r\n",
        "    "
      ],
      "outputs": [
        {
          "output_type": "stream",
          "name": "stderr",
          "text": [
            "100%|██████████| 24058563/24058563 [10:56<00:00, 36632.15it/s]\n"
          ]
        }
      ],
      "metadata": {}
    },
    {
      "cell_type": "code",
      "execution_count": 24,
      "source": [
        "len(vallmigu_pair_set)"
      ],
      "outputs": [
        {
          "output_type": "execute_result",
          "data": {
            "text/plain": [
              "744945"
            ]
          },
          "metadata": {},
          "execution_count": 24
        }
      ],
      "metadata": {}
    },
    {
      "cell_type": "code",
      "execution_count": 25,
      "source": [
        "len(set(one_long_list))"
      ],
      "outputs": [
        {
          "output_type": "execute_result",
          "data": {
            "text/plain": [
              "2031806"
            ]
          },
          "metadata": {},
          "execution_count": 25
        }
      ],
      "metadata": {}
    },
    {
      "cell_type": "markdown",
      "source": [
        "#Word2Vec\n",
        "\n",
        "Generate word2vec representation for tokens in tamil. \n",
        "\n"
      ],
      "metadata": {
        "id": "bhNP6iD4NdoA",
        "colab_type": "text"
      }
    },
    {
      "cell_type": "code",
      "execution_count": 31,
      "source": [
        "import pickle\r\n",
        "\r\n",
        "with open('../data/vallmigu_pair.pkl','wb') as f:\r\n",
        "    pickle.dump(vallmigu_pair_set,f)"
      ],
      "outputs": [],
      "metadata": {}
    },
    {
      "cell_type": "code",
      "execution_count": 26,
      "source": [
        "#Generate word 2 vec\r\n",
        "\r\n",
        "from gensim.models import Word2Vec"
      ],
      "outputs": [],
      "metadata": {
        "id": "6_AiFZxNk1CP",
        "colab_type": "code",
        "colab": {}
      }
    },
    {
      "cell_type": "code",
      "execution_count": 27,
      "source": [
        "texts = one_long_list"
      ],
      "outputs": [],
      "metadata": {
        "id": "KZDfXNg1lH-b",
        "colab_type": "code",
        "colab": {}
      }
    },
    {
      "cell_type": "code",
      "execution_count": 28,
      "source": [
        " \r\n",
        "model = Word2Vec(texts, size=100, window=50, min_count=20, workers=6)"
      ],
      "outputs": [
        {
          "output_type": "error",
          "ename": "TypeError",
          "evalue": "__init__() got an unexpected keyword argument 'size'",
          "traceback": [
            "\u001b[1;31m---------------------------------------------------------------------------\u001b[0m",
            "\u001b[1;31mTypeError\u001b[0m                                 Traceback (most recent call last)",
            "\u001b[1;32m<ipython-input-28-6a98b0805993>\u001b[0m in \u001b[0;36m<module>\u001b[1;34m\u001b[0m\n\u001b[1;32m----> 1\u001b[1;33m \u001b[0mmodel\u001b[0m \u001b[1;33m=\u001b[0m \u001b[0mWord2Vec\u001b[0m\u001b[1;33m(\u001b[0m\u001b[0mtexts\u001b[0m\u001b[1;33m,\u001b[0m \u001b[0msize\u001b[0m\u001b[1;33m=\u001b[0m\u001b[1;36m100\u001b[0m\u001b[1;33m,\u001b[0m \u001b[0mwindow\u001b[0m\u001b[1;33m=\u001b[0m\u001b[1;36m50\u001b[0m\u001b[1;33m,\u001b[0m \u001b[0mmin_count\u001b[0m\u001b[1;33m=\u001b[0m\u001b[1;36m20\u001b[0m\u001b[1;33m,\u001b[0m \u001b[0mworkers\u001b[0m\u001b[1;33m=\u001b[0m\u001b[1;36m6\u001b[0m\u001b[1;33m)\u001b[0m\u001b[1;33m\u001b[0m\u001b[1;33m\u001b[0m\u001b[0m\n\u001b[0m",
            "\u001b[1;31mTypeError\u001b[0m: __init__() got an unexpected keyword argument 'size'"
          ]
        }
      ],
      "metadata": {
        "id": "wwFDd7OHk7x0",
        "colab_type": "code",
        "colab": {}
      }
    },
    {
      "cell_type": "code",
      "execution_count": null,
      "source": [
        "len(model.wv.vocab)"
      ],
      "outputs": [
        {
          "output_type": "execute_result",
          "data": {
            "text/plain": [
              "80860"
            ]
          },
          "metadata": {
            "tags": []
          },
          "execution_count": 43
        }
      ],
      "metadata": {
        "id": "U4WeU6I4lVpk",
        "colab_type": "code",
        "outputId": "8191590e-f0f0-49bd-c420-4830c4e5bfdd",
        "colab": {
          "base_uri": "https://localhost:8080/",
          "height": 34
        }
      }
    },
    {
      "cell_type": "code",
      "execution_count": null,
      "source": [
        "model.wv.most_similar(\"ஐம்பது\")"
      ],
      "outputs": [
        {
          "output_type": "stream",
          "name": "stderr",
          "text": [
            "/usr/local/lib/python3.6/dist-packages/gensim/matutils.py:737: FutureWarning: Conversion of the second argument of issubdtype from `int` to `np.signedinteger` is deprecated. In future, it will be treated as `np.int64 == np.dtype(int).type`.\n",
            "  if np.issubdtype(vec.dtype, np.int):\n"
          ]
        },
        {
          "output_type": "execute_result",
          "data": {
            "text/plain": [
              "[('முப்பது', 0.7912629842758179),\n",
              " ('நூறு', 0.7821017503738403),\n",
              " ('நாற்பது', 0.7711770534515381),\n",
              " ('பதினைந்து', 0.7171321511268616),\n",
              " ('ஆயிரத்து', 0.7063670754432678),\n",
              " ('எண்பது', 0.6890194416046143),\n",
              " ('பத்து', 0.6858401298522949),\n",
              " ('அறுபது', 0.6848776340484619),\n",
              " ('இரண்டரை', 0.6679751873016357),\n",
              " ('இலட்சம்', 0.6582279205322266)]"
            ]
          },
          "metadata": {
            "tags": []
          },
          "execution_count": 48
        }
      ],
      "metadata": {
        "id": "SuXx-0wxnJ62",
        "colab_type": "code",
        "outputId": "8a7bf6de-c210-4210-d42a-5d55302764a5",
        "colab": {
          "base_uri": "https://localhost:8080/",
          "height": 241
        }
      }
    },
    {
      "cell_type": "code",
      "execution_count": null,
      "source": [
        "model.save(\"tawiki_w2v\")"
      ],
      "outputs": [
        {
          "output_type": "stream",
          "name": "stderr",
          "text": [
            "/usr/local/lib/python3.6/dist-packages/smart_open/smart_open_lib.py:398: UserWarning: This function is deprecated, use smart_open.open instead. See the migration notes for details: https://github.com/RaRe-Technologies/smart_open/blob/master/README.rst#migrating-to-the-new-open-function\n",
            "  'See the migration notes for details: %s' % _MIGRATION_NOTES_URL\n"
          ]
        }
      ],
      "metadata": {
        "id": "l6OKcvZoqhxI",
        "colab_type": "code",
        "outputId": "f6e129c0-5fc1-4dd5-8ae5-eab6b8a684fb",
        "colab": {
          "base_uri": "https://localhost:8080/",
          "height": 71
        }
      }
    },
    {
      "cell_type": "code",
      "execution_count": null,
      "source": [],
      "outputs": [],
      "metadata": {
        "id": "weN87o6vXFC1",
        "colab_type": "code",
        "colab": {}
      }
    }
  ]
}