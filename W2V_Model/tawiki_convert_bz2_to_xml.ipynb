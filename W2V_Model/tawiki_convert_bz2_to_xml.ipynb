{
 "cells": [
  {
   "cell_type": "markdown",
   "source": [
    "# Data extraction from Wikimedia tamil dump data\r\n",
    "\r\n",
    "Wikimedia "
   ],
   "metadata": {
    "colab_type": "text",
    "id": "iM3Krbn5SX0-"
   }
  },
  {
   "cell_type": "markdown",
   "source": [
    "### Extract bz2 file to xml files"
   ],
   "metadata": {
    "colab": {},
    "colab_type": "code",
    "id": "H8I4S-YXS_m0"
   }
  },
  {
   "cell_type": "code",
   "execution_count": 2,
   "source": [
    "import bz2"
   ],
   "outputs": [],
   "metadata": {
    "colab": {},
    "colab_type": "code",
    "id": "xsQAZ0c0U-OO"
   }
  },
  {
   "cell_type": "code",
   "execution_count": 3,
   "source": [
    "with open(\"../data/tawiki-latest-pages-articles.xml.bz2\",\"rb\") as f:\r\n",
    "  file_decompress = bz2.decompress(f.read())"
   ],
   "outputs": [],
   "metadata": {
    "colab": {},
    "colab_type": "code",
    "id": "PF3pXbfXTAsX"
   }
  },
  {
   "cell_type": "code",
   "execution_count": 4,
   "source": [
    "with open(\"../data/tawiki-decompressed.xml\",\"wb\") as wf:\r\n",
    "  wf.write(file_decompress)\r\n",
    "  "
   ],
   "outputs": [],
   "metadata": {
    "colab": {},
    "colab_type": "code",
    "id": "-6J1uiz2Tgtn"
   }
  },
  {
   "cell_type": "markdown",
   "source": [
    "### Import libraries"
   ],
   "metadata": {}
  },
  {
   "cell_type": "code",
   "execution_count": 5,
   "source": [
    "import pandas as pd\r\n",
    "import os\r\n",
    "import re\r\n",
    "import xml.etree.ElementTree as ET"
   ],
   "outputs": [],
   "metadata": {
    "colab": {},
    "colab_type": "code",
    "id": "C44fpmVrUL7f"
   }
  },
  {
   "cell_type": "code",
   "execution_count": 10,
   "source": [
    "file_path =\"../data/tawiki-decompressed.xml\""
   ],
   "outputs": [],
   "metadata": {
    "colab": {},
    "colab_type": "code",
    "id": "144Jhwnyc83Z"
   }
  },
  {
   "cell_type": "markdown",
   "source": [
    "### Build a XML tree "
   ],
   "metadata": {}
  },
  {
   "cell_type": "code",
   "execution_count": 11,
   "source": [
    "#load file to XML parser\r\n",
    "\r\n",
    "tree = ET.parse(file_path)\r\n",
    "root = tree.getroot()  "
   ],
   "outputs": [],
   "metadata": {
    "colab": {},
    "colab_type": "code",
    "id": "Ui4t2VjIdFO9"
   }
  },
  {
   "cell_type": "code",
   "execution_count": 12,
   "source": [
    "ns = {'ns': \"http://www.mediawiki.org/xml/export-0.10/\"}"
   ],
   "outputs": [],
   "metadata": {
    "colab": {},
    "colab_type": "code",
    "id": "W96P94IndGpR"
   }
  },
  {
   "cell_type": "markdown",
   "source": [
    "### Extract below fields from the xml data\n",
    "1. Title\n",
    "2. Article Content"
   ],
   "metadata": {}
  },
  {
   "cell_type": "code",
   "execution_count": 14,
   "source": [
    "content = []\r\n",
    "for page in root.iter('{http://www.mediawiki.org/xml/export-0.10/}page'):\r\n",
    "    title = page.find(\"ns:title\",ns).text\r\n",
    "    text  = page.find(\"ns:revision/ns:text\",ns).text\r\n",
    "    content.append({'title':title,'text':text})\r\n",
    "    "
   ],
   "outputs": [],
   "metadata": {
    "colab": {},
    "colab_type": "code",
    "id": "UCIo1_AidJwr"
   }
  },
  {
   "cell_type": "markdown",
   "source": [
    "### Save as tabular data"
   ],
   "metadata": {}
  },
  {
   "cell_type": "code",
   "execution_count": 15,
   "source": [
    "tawiki_content_df = pd.DataFrame(content)"
   ],
   "outputs": [],
   "metadata": {
    "colab": {},
    "colab_type": "code",
    "id": "1VRv6UINdMpM"
   }
  },
  {
   "cell_type": "code",
   "execution_count": 16,
   "source": [
    "tawiki_content_df.to_csv(\"../data/tawiki_pages_articles.csv\")"
   ],
   "outputs": [],
   "metadata": {
    "colab": {},
    "colab_type": "code",
    "id": "XxP3oaJ2dPC3"
   }
  },
  {
   "cell_type": "code",
   "execution_count": null,
   "source": [],
   "outputs": [],
   "metadata": {
    "colab": {},
    "colab_type": "code",
    "id": "hBLTNjIldPpI"
   }
  }
 ],
 "metadata": {
  "accelerator": "GPU",
  "colab": {
   "name": "tawiki_extraction.ipynb",
   "provenance": [],
   "version": "0.3.2"
  },
  "kernelspec": {
   "name": "python3",
   "display_name": "Python 3.8.10 64-bit ('deepcpu': conda)"
  },
  "language_info": {
   "codemirror_mode": {
    "name": "ipython",
    "version": 3
   },
   "file_extension": ".py",
   "mimetype": "text/x-python",
   "name": "python",
   "nbconvert_exporter": "python",
   "pygments_lexer": "ipython3",
   "version": "3.8.10"
  },
  "interpreter": {
   "hash": "225e9c3dad8bdaa08775d424574c5a097d8974f53246e85eec604db0c0bf068c"
  }
 },
 "nbformat": 4,
 "nbformat_minor": 1
}