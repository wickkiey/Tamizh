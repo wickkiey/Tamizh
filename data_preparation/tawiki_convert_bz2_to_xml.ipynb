{
 "cells": [
  {
   "cell_type": "markdown",
   "metadata": {
    "colab_type": "text",
    "id": "iM3Krbn5SX0-"
   },
   "source": [
    "# Data extraction from Wikimedia tamil dump data\n",
    "\n",
    "Wikimedia  (Download data from https://dumps.wikimedia.org/tawiki/latest/)"
   ]
  },
  {
   "cell_type": "markdown",
   "metadata": {
    "colab": {},
    "colab_type": "code",
    "id": "H8I4S-YXS_m0"
   },
   "source": [
    "### Extract bz2 file to xml files"
   ]
  },
  {
   "cell_type": "markdown",
   "metadata": {},
   "source": [
    "## Convert from bz2 to XML Format"
   ]
  },
  {
   "cell_type": "code",
   "execution_count": 1,
   "metadata": {
    "colab": {},
    "colab_type": "code",
    "id": "xsQAZ0c0U-OO"
   },
   "outputs": [],
   "source": [
    "import bz2"
   ]
  },
  {
   "cell_type": "code",
   "execution_count": 2,
   "metadata": {
    "colab": {},
    "colab_type": "code",
    "id": "PF3pXbfXTAsX"
   },
   "outputs": [],
   "source": [
    "with open(\"../data/tawiki-latest-pages-articles.xml.bz2\",\"rb\") as f:\n",
    "  file_decompress = bz2.decompress(f.read())"
   ]
  },
  {
   "cell_type": "code",
   "execution_count": 3,
   "metadata": {
    "colab": {},
    "colab_type": "code",
    "id": "-6J1uiz2Tgtn"
   },
   "outputs": [],
   "source": [
    "with open(\"../data/tawiki-decompressed.xml\",\"wb\") as wf:\n",
    "  wf.write(file_decompress)\n",
    "  "
   ]
  },
  {
   "cell_type": "markdown",
   "metadata": {},
   "source": [
    "## Parse XML and save the extracted data"
   ]
  },
  {
   "cell_type": "markdown",
   "metadata": {},
   "source": [
    "### Import libraries"
   ]
  },
  {
   "cell_type": "code",
   "execution_count": 4,
   "metadata": {
    "colab": {},
    "colab_type": "code",
    "id": "C44fpmVrUL7f"
   },
   "outputs": [],
   "source": [
    "import pandas as pd\n",
    "import os\n",
    "import re\n",
    "import xml.etree.ElementTree as ET"
   ]
  },
  {
   "cell_type": "code",
   "execution_count": 5,
   "metadata": {
    "colab": {},
    "colab_type": "code",
    "id": "144Jhwnyc83Z"
   },
   "outputs": [],
   "source": [
    "file_path =\"../data/tawiki-decompressed.xml\""
   ]
  },
  {
   "cell_type": "markdown",
   "metadata": {},
   "source": [
    "### Build a XML tree "
   ]
  },
  {
   "cell_type": "code",
   "execution_count": 6,
   "metadata": {
    "colab": {},
    "colab_type": "code",
    "id": "Ui4t2VjIdFO9"
   },
   "outputs": [],
   "source": [
    "#load file to XML parser\n",
    "\n",
    "tree = ET.parse(file_path)\n",
    "root = tree.getroot()  "
   ]
  },
  {
   "cell_type": "code",
   "execution_count": 7,
   "metadata": {
    "colab": {},
    "colab_type": "code",
    "id": "W96P94IndGpR"
   },
   "outputs": [],
   "source": [
    "ns = {'ns': \"http://www.mediawiki.org/xml/export-0.10/\"}"
   ]
  },
  {
   "cell_type": "markdown",
   "metadata": {},
   "source": [
    "### Extract below fields from the xml data\n",
    "1. Title\n",
    "2. Article Content"
   ]
  },
  {
   "cell_type": "code",
   "execution_count": 8,
   "metadata": {
    "colab": {},
    "colab_type": "code",
    "id": "UCIo1_AidJwr"
   },
   "outputs": [],
   "source": [
    "content = []\n",
    "for page in root.iter('{http://www.mediawiki.org/xml/export-0.10/}page'):\n",
    "    title = page.find(\"ns:title\",ns).text\n",
    "    text  = page.find(\"ns:revision/ns:text\",ns).text\n",
    "    content.append({'title':title,'text':text})\n",
    "    "
   ]
  },
  {
   "cell_type": "markdown",
   "metadata": {},
   "source": [
    "### Save as tabular data"
   ]
  },
  {
   "cell_type": "code",
   "execution_count": 9,
   "metadata": {
    "colab": {},
    "colab_type": "code",
    "id": "1VRv6UINdMpM"
   },
   "outputs": [],
   "source": [
    "tawiki_content_df = pd.DataFrame(content)"
   ]
  },
  {
   "cell_type": "code",
   "execution_count": 10,
   "metadata": {
    "colab": {},
    "colab_type": "code",
    "id": "XxP3oaJ2dPC3"
   },
   "outputs": [],
   "source": [
    "tawiki_content_df.to_csv(\"../data/tawiki_pages_articles.csv\")"
   ]
  },
  {
   "cell_type": "code",
   "execution_count": null,
   "metadata": {
    "colab": {},
    "colab_type": "code",
    "id": "hBLTNjIldPpI"
   },
   "outputs": [],
   "source": []
  }
 ],
 "metadata": {
  "accelerator": "GPU",
  "colab": {
   "name": "tawiki_extraction.ipynb",
   "provenance": [],
   "version": "0.3.2"
  },
  "kernelspec": {
   "display_name": "Python 3.9.13 ('mlcpu')",
   "language": "python",
   "name": "python3"
  },
  "language_info": {
   "codemirror_mode": {
    "name": "ipython",
    "version": 3
   },
   "file_extension": ".py",
   "mimetype": "text/x-python",
   "name": "python",
   "nbconvert_exporter": "python",
   "pygments_lexer": "ipython3",
   "version": "3.9.13"
  },
  "vscode": {
   "interpreter": {
    "hash": "c5748c1565c1706c28b404b55436b62b6077c6512afb1061aa07a949deeb1fa3"
   }
  }
 },
 "nbformat": 4,
 "nbformat_minor": 1
}
