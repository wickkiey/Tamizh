{
 "cells": [
  {
   "cell_type": "code",
   "execution_count": 4,
   "metadata": {},
   "outputs": [],
   "source": [
    "import regex \n",
    "import os \n",
    "import json \n",
    "from keyvalpairs import *"
   ]
  },
  {
   "cell_type": "code",
   "execution_count": null,
   "metadata": {},
   "outputs": [],
   "source": [
    "class TextAnalyzer:\n",
    "    \n",
    "    def __init__(self) -> None:\n",
    "        #load parser json \n",
    "        with open('data/char_parser.json', 'r',encoding='utf8') as f:\n",
    "            self.parser_map = json.load(f)\n",
    "        self.uyir_chars = uyir_chars\n",
    "        self.mei_chars = mei_chars\n",
    "        self.tam_chars = tam_chars\n",
    "        self.ayuth = ayuth\n",
    "    \n",
    "    def is_endswith(self,text,ending):\n",
    "        return text.endswith(ending)\n",
    "    \n",
    "    def is_endswith_any(self,text,ending_list):\n",
    "        for ending in ending_list:\n",
    "            if text.endswith(ending):\n",
    "                return True\n",
    "        return False\n",
    "\n",
    "    def is_endswith_mei(self,text):\n",
    "        return self.is_endswith_any(text,mei_chars.values())\n",
    "    \n",
    "    def is_endswith_uyir(self,text):\n",
    "        return self.is_endswith_any(text,uyir_chars.values())\n",
    "    \n",
    "    def is_a_in_b(self, a , b):\n",
    "        a = regex.sub(r'[^a-zA-Z0-9]', '', a)\n",
    "    \n",
    "    \n",
    "            \n",
    "            "
   ]
  },
  {
   "cell_type": "code",
   "execution_count": null,
   "metadata": {},
   "outputs": [],
   "source": [
    "def tense_extractor(text):\n",
    "    # Extracts base word and tense from a given tamil word\n",
    "    \n",
    "    past_ends = ['']"
   ]
  },
  {
   "cell_type": "code",
   "execution_count": 3,
   "metadata": {},
   "outputs": [
    {
     "data": {
      "text/plain": [
       "True"
      ]
     },
     "execution_count": 3,
     "metadata": {},
     "output_type": "execute_result"
    }
   ],
   "source": []
  },
  {
   "cell_type": "code",
   "execution_count": null,
   "metadata": {},
   "outputs": [],
   "source": []
  }
 ],
 "metadata": {
  "kernelspec": {
   "display_name": "mlcpu",
   "language": "python",
   "name": "python3"
  },
  "language_info": {
   "codemirror_mode": {
    "name": "ipython",
    "version": 3
   },
   "file_extension": ".py",
   "mimetype": "text/x-python",
   "name": "python",
   "nbconvert_exporter": "python",
   "pygments_lexer": "ipython3",
   "version": "3.9.13"
  },
  "orig_nbformat": 4
 },
 "nbformat": 4,
 "nbformat_minor": 2
}
